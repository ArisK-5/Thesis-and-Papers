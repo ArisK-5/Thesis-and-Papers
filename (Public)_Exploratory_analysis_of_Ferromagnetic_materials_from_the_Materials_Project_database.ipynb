{
  "nbformat": 4,
  "nbformat_minor": 0,
  "metadata": {
    "colab": {
      "name": "(Public) Exploratory analysis of Ferromagnetic materials from the Materials Project database.ipynb",
      "provenance": [],
      "collapsed_sections": [],
      "authorship_tag": "ABX9TyNA4V3SVcSh3LniA90ZZIfA",
      "include_colab_link": true
    },
    "kernelspec": {
      "name": "python3",
      "display_name": "Python 3"
    },
    "language_info": {
      "name": "python"
    }
  },
  "cells": [
    {
      "cell_type": "markdown",
      "metadata": {
        "id": "view-in-github",
        "colab_type": "text"
      },
      "source": [
        "<a href=\"https://colab.research.google.com/github/ArisK-5/Thesis-and-Papers/blob/main/(Public)_Exploratory_analysis_of_Ferromagnetic_materials_from_the_Materials_Project_database.ipynb\" target=\"_parent\"><img src=\"https://colab.research.google.com/assets/colab-badge.svg\" alt=\"Open In Colab\"/></a>"
      ]
    },
    {
      "cell_type": "markdown",
      "source": [
        "# Exploratory analysis of Ferromagnetic materials from the Materials Project database"
      ],
      "metadata": {
        "id": "7ERyyt2Rd6F1"
      }
    },
    {
      "cell_type": "markdown",
      "source": [
        "This Colab notebook is ment to accompany my undergraduate thesis titled \"Exploratory analysis of Ferromagnetic materials from the Materials Project database\". All calculations were done in **python v3.7.12** and it is divided in four main parts (Query, test, Filtering and Results). The \"**Query**\" part is self explanatory and in it we query the Materials Project database for all materials with magnetic moments higher than zero. In the \"**test**\" part we calculate the magnetization of all queried materials and define the four thresholds we plan on applying in the later steps. As a result, \"**Filtering**\" and \"**Results**\" are further divided for each magnetization threshold. These thresholds are $0.007$, $0.05$, $0.10$ and $0.15$ $\\mu_{B} \\, Å^{-3}$, the lower of which is the mean magnetization of all queried materials. In the \"**Filtering**\" sections we basically keep the compounds with magnetization higher than, or equal to, the given threshold and in \"**Results**\" we present the graphs used in the thesis' chapter of the same name.\n",
        "\n",
        "We strongly suggest you run this code while connected to your google drive account so you can mount it and save all queried and calculated data. This method is fairly simple and provides the highest mobility because it allows the user to easily switch to the desirable threshold's results.\n",
        "\n",
        "**IMPORTANT**: In order to query the Materials Project database you need to get your unique API key from the following website: https://materialsproject.org/open "
      ],
      "metadata": {
        "id": "YraxVQjFM3So"
      }
    },
    {
      "cell_type": "markdown",
      "source": [
        "Cell to see if you run the same python version."
      ],
      "metadata": {
        "id": "Wsmul1aWRUuY"
      }
    },
    {
      "cell_type": "code",
      "source": [
        "from platform import python_version\n",
        "\n",
        "print(python_version())"
      ],
      "metadata": {
        "id": "MzuaygIrKOyi"
      },
      "execution_count": null,
      "outputs": []
    },
    {
      "cell_type": "markdown",
      "source": [
        "Installation of pymatgen and mendeleev packages."
      ],
      "metadata": {
        "id": "kbvO0K3ORgYT"
      }
    },
    {
      "cell_type": "code",
      "metadata": {
        "id": "S3e5flnbo5pA"
      },
      "source": [
        "!pip install pymatgen"
      ],
      "execution_count": null,
      "outputs": []
    },
    {
      "cell_type": "code",
      "metadata": {
        "id": "jA_VGqvZIKaI"
      },
      "source": [
        "!pip install mendeleev"
      ],
      "execution_count": null,
      "outputs": []
    },
    {
      "cell_type": "markdown",
      "source": [
        "As suggested above, we recommend you mount your google drive and specify the root_path. By creating a folder in gdrive named \"Materials Project\" you won't need to change anything else in the cells that will follow. If you choose not to, you will later have to manualy change the root path in the write_feather and read_feather commands."
      ],
      "metadata": {
        "id": "P_VcvlAHRsDN"
      }
    },
    {
      "cell_type": "code",
      "metadata": {
        "id": "IJQy5ELTYBss"
      },
      "source": [
        "from google.colab import drive\n",
        "drive.mount('/content/gdrive')\n",
        "root_path = '/content/gdrive/My Drive/Materials Project/'"
      ],
      "execution_count": null,
      "outputs": []
    },
    {
      "cell_type": "markdown",
      "source": [
        "The imports cell."
      ],
      "metadata": {
        "id": "DjJrPn2DVeyv"
      }
    },
    {
      "cell_type": "code",
      "metadata": {
        "id": "FN7DgSVXXakk"
      },
      "source": [
        "import numpy as np\n",
        "from pymatgen.ext.matproj import MPRester\n",
        "from pprint import pprint          \n",
        "from tqdm import tqdm              \n",
        "from mendeleev import element\n",
        "import pandas as pd\n",
        "import pyarrow.feather as feather\n",
        "\n",
        "import matplotlib.pyplot as plt\n",
        "import matplotlib.ticker as ticker\n",
        "import plotly.express as px\n",
        "\n",
        "import seaborn as sns\n",
        "sns.set_style('dark')\n",
        "palette = {'cubic': '#ff7f0e', 'hexagonal': '#d62728', 'monoclinic': '#e377c2', 'orthorhombic': '#1f77b4', \n",
        "          'tetragonal': '#2ca02c', 'triclinic': '#8c564b', 'trigonal': '#9467bd'}"
      ],
      "execution_count": null,
      "outputs": []
    },
    {
      "cell_type": "markdown",
      "source": [
        "The respective data from the Querry, Test and Filtering sections will be saved to your specified root path after the first time you run them. This way, the next time you want to revisit them you can simply read these files at their respective Results section.  "
      ],
      "metadata": {
        "id": "PR16xAOJWEpY"
      }
    },
    {
      "cell_type": "markdown",
      "source": [
        "# Query"
      ],
      "metadata": {
        "id": "pr3fAceXi8kk"
      }
    },
    {
      "cell_type": "markdown",
      "source": [
        "Before you make the following query you need to head to the Materials Project website and get your unique API key. \n",
        "\n",
        "Then simply paste it inside MPRester."
      ],
      "metadata": {
        "id": "n8Scf7WMXUlV"
      }
    },
    {
      "cell_type": "code",
      "source": [
        "with MPRester('YOUR_API_KEY') as mpr:\n",
        "  criteria = {'total_magnetization': {\"$gt\": 0}}\n",
        "  properties=['material_id', 'pretty_formula', 'unit_cell_formula', 'e_above_hull', 'crystal_system', 'spacegroup.number', 'total_magnetization', 'volume', 'nsites', 'efermi']\n",
        "  entries = mpr.query(criteria, properties)"
      ],
      "metadata": {
        "id": "sjKx-3cbwLcV"
      },
      "execution_count": null,
      "outputs": []
    },
    {
      "cell_type": "code",
      "source": [
        "df = pd.DataFrame(entries)\n",
        "\n",
        "df['efermi'] = pd.to_numeric(df['efermi'],errors = 'coerce')\n",
        "\n",
        "display(df)\n",
        "\n",
        "feather.write_feather(df, '/content/gdrive/MyDrive/Materials Project/data_query.ft')"
      ],
      "metadata": {
        "id": "0V4BdYkd5R7c"
      },
      "execution_count": null,
      "outputs": []
    },
    {
      "cell_type": "markdown",
      "source": [
        "# Test\n"
      ],
      "metadata": {
        "id": "DKbcDW6_r9wt"
      }
    },
    {
      "cell_type": "markdown",
      "source": [
        "This is a test to determine the various magnetization thresholds."
      ],
      "metadata": {
        "id": "dBMNz7O8-KT0"
      }
    },
    {
      "cell_type": "code",
      "source": [
        "df = feather.read_feather('/content/gdrive/MyDrive/Materials Project/data_query.ft')\n",
        "\n",
        "for i in list(df.index.values):\n",
        "  filtered = {k: v for k, v in df['unit_cell_formula'][i].items() if v is not None}\n",
        "  df['unit_cell_formula'][i].clear()\n",
        "  df['unit_cell_formula'][i].update(filtered)\n",
        "\n",
        "display(df)"
      ],
      "metadata": {
        "id": "-uWmxCv8jYnc"
      },
      "execution_count": null,
      "outputs": []
    },
    {
      "cell_type": "code",
      "source": [
        "totmagnormvol = tqdm([entry['total_magnetization']/entry['volume'] for entry in df.to_dict(orient=\"records\")])\n",
        "\n",
        "df['total_magnetization_normalized_vol'] = totmagnormvol"
      ],
      "metadata": {
        "id": "QYo0dzb3_V3O"
      },
      "execution_count": null,
      "outputs": []
    },
    {
      "cell_type": "code",
      "source": [
        "max_mag = df['total_magnetization_normalized_vol'].idxmax()\n",
        "max_mag_entry = df.iloc[[max_mag]]\n",
        "avg_mag = df['total_magnetization_normalized_vol'].mean()\n",
        "\n",
        "display(max_mag_entry)\n",
        "\n",
        "print('\\nThe average magnetization was found to be: ',avg_mag, 'μ_Β Α^-3')"
      ],
      "metadata": {
        "id": "owYSbXEz4web"
      },
      "execution_count": null,
      "outputs": []
    },
    {
      "cell_type": "code",
      "source": [
        "fig, axes = plt.subplots(5, 1, figsize=(12,12))\n",
        "\n",
        "sns.histplot(ax=axes[0], bins=np.arange(0, 0.25, 0.001), data=df['total_magnetization_normalized_vol'])\n",
        "axes[0].set_title(r'$(a) \\quad 0 - 0.25 \\, \\mu_{B} \\, \\AA^{-3}$')\n",
        "axes[0].xaxis.label.set_visible(False)\n",
        "axes[0].grid()\n",
        "\n",
        "sns.histplot(ax=axes[1], bins=np.arange(0.007, 0.25, 0.001), data=df['total_magnetization_normalized_vol'])\n",
        "axes[1].set_title(r'$(b) \\quad 0.007 - 0.25 \\, \\mu_{B} \\, \\AA^{-3}$')\n",
        "axes[1].xaxis.label.set_visible(False)\n",
        "axes[1].grid()\n",
        "\n",
        "sns.histplot(ax=axes[2], bins=np.arange(0.05, 0.25, 0.001), data=df['total_magnetization_normalized_vol'])\n",
        "axes[2].set_title(r'$(c) \\quad 0.05 - 0.25 \\, \\mu_{B} \\, \\AA^{-3}$')\n",
        "axes[2].xaxis.label.set_visible(False)\n",
        "axes[2].grid()\n",
        "\n",
        "sns.histplot(ax=axes[3], bins=np.arange(0.10, 0.25, 0.001), data=df['total_magnetization_normalized_vol'])\n",
        "axes[3].set_title(r'$(d) \\quad 0.10 - 0.25 \\, \\mu_{B} \\, \\AA^{-3}$')\n",
        "axes[3].xaxis.label.set_visible(False)\n",
        "axes[3].grid()\n",
        "\n",
        "sns.histplot(ax=axes[4], bins=np.arange(0.15, 0.25, 0.001), data=df['total_magnetization_normalized_vol'])\n",
        "axes[4].set_title(r'$(e) \\quad 0.15 - 0.25 \\, \\mu_{B} \\, \\AA^{-3}$')\n",
        "axes[4].xaxis.label.set_visible(False)\n",
        "axes[4].grid()\n",
        "\n",
        "plt.tight_layout()"
      ],
      "metadata": {
        "id": "5bTssEkpNWxy"
      },
      "execution_count": null,
      "outputs": []
    },
    {
      "cell_type": "markdown",
      "source": [
        "# Filtering - ($0.007 \\, \\mu_{B} \\, Å^{-3}$)"
      ],
      "metadata": {
        "id": "LDbvyvXWl0yP"
      }
    },
    {
      "cell_type": "markdown",
      "source": [
        "Here we filter out materials from the dataframe with magnetization <= 0.007. Then we create a copy of it as a list of dicts."
      ],
      "metadata": {
        "id": "YrAFJwzjl0yS"
      }
    },
    {
      "cell_type": "code",
      "source": [
        "df_filtered_avg = df.loc[df['total_magnetization_normalized_vol'] >= 0.007]\n",
        "\n",
        "print(df_filtered_avg)"
      ],
      "metadata": {
        "id": "MvqakXv1l0yT"
      },
      "execution_count": null,
      "outputs": []
    },
    {
      "cell_type": "markdown",
      "metadata": {
        "id": "XElVJyvkl0yW"
      },
      "source": [
        "**Search for duplicate entries** in terms of chemical composition (pretty_formula column) and keep the ones that occured first.\n",
        "\n",
        "(it's safe because the difference in magnetization is at the 2nd-3rd decimal places)"
      ]
    },
    {
      "cell_type": "code",
      "metadata": {
        "id": "OLdrZ65Gl0yX"
      },
      "source": [
        "print('Number of duplicate entries found in terms of material id: ', df_filtered_avg.material_id.duplicated().sum())\n",
        "print('Number of duplicate entries found in terms of chemical formula: ', df_filtered_avg.pretty_formula.duplicated().sum())\n",
        "\n",
        "df_final_avg = df_filtered_avg.drop_duplicates(subset=['pretty_formula'], keep='first', ignore_index=True)\n",
        "\n",
        "print(\"\\n\",df_final_avg)"
      ],
      "execution_count": null,
      "outputs": []
    },
    {
      "cell_type": "markdown",
      "source": [
        "We calculate the mean unit cell volume per atom and the mean atomic number per unit cell for every entry and save them as lists (meanVs & meanZs) -This took about an hour in my Pc."
      ],
      "metadata": {
        "id": "Uq7G0piQl0yZ"
      }
    },
    {
      "cell_type": "code",
      "source": [
        "meanVs = [entry['volume']/entry['nsites'] for entry in df_final_avg.to_dict(orient='records')]\n",
        "meanZs = []\n",
        "Zs = []\n",
        "\n",
        "for entry in df_final_avg.to_dict(orient='records'):\n",
        "  for atom, coef in entry['unit_cell_formula'].items():\n",
        "    Z = coef*element(atom).atomic_number\n",
        "    Zs.append(Z)\n",
        "  meanZ = sum(Zs)/entry['nsites']\n",
        "  meanZs.append(meanZ)\n",
        "  Zs.clear()"
      ],
      "metadata": {
        "id": "IgggpjhDl0ya"
      },
      "execution_count": null,
      "outputs": []
    },
    {
      "cell_type": "markdown",
      "source": [
        "We insert these lists (meanVs and meanZs) as new columns in the **final dataframe** and then **write** the feather file.\n",
        "\n",
        "For some weird reason the 'efermi' column type changed to object instead of being a float. This was fixed with an additional command."
      ],
      "metadata": {
        "id": "558cwlWTl0yc"
      }
    },
    {
      "cell_type": "code",
      "source": [
        "df_final_avg['mean_V'] = meanVs\n",
        "df_final_avg['mean_Z'] = meanZs\n",
        "\n",
        "del meanVs[:]  \n",
        "del meanZs[:]  \n",
        "del Zs[:]   \n",
        "\n",
        "df_final_avg['efermi'] = pd.to_numeric(df_final_avg['efermi'],errors = 'coerce')\n",
        "\n",
        "feather.write_feather(df_final_avg, '/content/gdrive/MyDrive/Materials Project/data_gt.avg.ft')\n",
        "\n",
        "display(df_final_avg)"
      ],
      "metadata": {
        "id": "eXMGh4uLl0yg"
      },
      "execution_count": null,
      "outputs": []
    },
    {
      "cell_type": "markdown",
      "source": [
        "# Filtering - ($0.05 \\, \\mu_{B} \\, Å^{-3}$)"
      ],
      "metadata": {
        "id": "ntkhpMAa8d3v"
      }
    },
    {
      "cell_type": "markdown",
      "source": [
        "Here we filter out from the dataframe materials with magnetization <= 0.05. Then we create a copy of it as a list of dicts."
      ],
      "metadata": {
        "id": "XjoGE0_7pSwO"
      }
    },
    {
      "cell_type": "code",
      "source": [
        "df_filtered_005 = df.loc[df['total_magnetization_normalized_vol'] >= 0.05]\n",
        "\n",
        "print(df_filtered_005)"
      ],
      "metadata": {
        "id": "aVQ5uqD5dJ9I"
      },
      "execution_count": null,
      "outputs": []
    },
    {
      "cell_type": "markdown",
      "metadata": {
        "id": "3BH6vCySmweY"
      },
      "source": [
        "**Search for duplicate entries** in terms of chemical composition (pretty_formula column) and keep the ones that occured first.\n",
        "\n",
        "(it's safe because the difference in magnetization is at the 2nd-3rd decimal places)"
      ]
    },
    {
      "cell_type": "code",
      "metadata": {
        "id": "9qf4DANImuvO"
      },
      "source": [
        "print('Number of duplicate entries found in terms of material id: ', df_filtered_005.material_id.duplicated().sum())\n",
        "print('Number of duplicate entries found in terms of chemical formula: ', df_filtered_005.pretty_formula.duplicated().sum())\n",
        "\n",
        "df_final_005 = df_filtered_005.drop_duplicates(subset=['pretty_formula'], keep='first', ignore_index=True)\n",
        "\n",
        "print(\"\\n\",df_final_005)"
      ],
      "execution_count": null,
      "outputs": []
    },
    {
      "cell_type": "markdown",
      "source": [
        "We calculate the mean unit cell volume per atom and the mean atomic number per unit cell for every entry and save them as lists (meanVs & meanZs) -Takes about 10 minutes."
      ],
      "metadata": {
        "id": "zg4C9TwhpnCv"
      }
    },
    {
      "cell_type": "code",
      "source": [
        "meanVs = [entry['volume']/entry['nsites'] for entry in df_final_005.to_dict(orient='records')]\n",
        "meanZs = []\n",
        "Zs = []\n",
        "\n",
        "for entry in df_final_005.to_dict(orient='records'):\n",
        "  for atom, coef in entry['unit_cell_formula'].items():\n",
        "    Z = coef*element(atom).atomic_number\n",
        "    Zs.append(Z)\n",
        "  meanZ = sum(Zs)/entry['nsites']\n",
        "  meanZs.append(meanZ)\n",
        "  Zs.clear()"
      ],
      "metadata": {
        "id": "24fmblztjytl"
      },
      "execution_count": null,
      "outputs": []
    },
    {
      "cell_type": "markdown",
      "source": [
        "We insert these lists (meanVs and meanZs) as new columns in the **final dataframe** and then **write** the feather file.\n",
        "\n",
        "For some weird reason the 'efermi' column type changed to object instead of being a float. The extra command below fixed that."
      ],
      "metadata": {
        "id": "TMcMqmkip10h"
      }
    },
    {
      "cell_type": "code",
      "source": [
        "df_final_005['mean_V'] = meanVs\n",
        "df_final_005['mean_Z'] = meanZs\n",
        "\n",
        "meanVs *= 0  \n",
        "meanZs *= 0  \n",
        "Zs *= 0  \n",
        "\n",
        "df_final_005['efermi'] = pd.to_numeric(df_final_005['efermi'],errors = 'coerce')\n",
        "\n",
        "feather.write_feather(df_final_005, '/content/gdrive/MyDrive/Materials Project/data_gt005.ft')\n",
        "\n",
        "display(df_final_005)"
      ],
      "metadata": {
        "id": "suoAxCpcn9xB"
      },
      "execution_count": null,
      "outputs": []
    },
    {
      "cell_type": "markdown",
      "source": [
        "# Filtering - ($0.1 \\, \\mu_{B} \\, Å^{-3}$)"
      ],
      "metadata": {
        "id": "aH-naMO789GB"
      }
    },
    {
      "cell_type": "markdown",
      "source": [
        "Here we filter out from the dataframe materials with magnetization <= 0.10. Then we create a copy of it as a list of dicts."
      ],
      "metadata": {
        "id": "5TxO0di8DXCh"
      }
    },
    {
      "cell_type": "code",
      "source": [
        "df_filtered_010 = df.loc[df['total_magnetization_normalized_vol'] >= 0.1]\n",
        "\n",
        "print(df_filtered_010)"
      ],
      "metadata": {
        "id": "beuMajsn9qXj"
      },
      "execution_count": null,
      "outputs": []
    },
    {
      "cell_type": "markdown",
      "metadata": {
        "id": "4aB4ruLR9qXl"
      },
      "source": [
        "**Search for duplicate entries** in terms of chemical composition (pretty_formula column) and keep the ones that occured first.\n",
        "\n",
        "(it's safe because the difference in magnetization is at the 2nd-3rd decimal places)"
      ]
    },
    {
      "cell_type": "code",
      "metadata": {
        "id": "Wd3TLa4U9qXm"
      },
      "source": [
        "print('Number of duplicate entries found in terms of material id: ', df_filtered_010.material_id.duplicated().sum())\n",
        "print('Number of duplicate entries found in terms of chemical formula: ', df_filtered_010.pretty_formula.duplicated().sum())\n",
        "\n",
        "df_final_010 = df_filtered_010.drop_duplicates(subset=['pretty_formula'], keep='first', ignore_index=True)\n",
        "\n",
        "print(\"\\n\",df_final_010)"
      ],
      "execution_count": null,
      "outputs": []
    },
    {
      "cell_type": "markdown",
      "source": [
        "We calculate the mean unit cell volume per atom and the mean atomic number per unit cell for every entry and save them as lists (meanVs & meanZs) -Takes a few minutes."
      ],
      "metadata": {
        "id": "ZPDCjDeF9qXn"
      }
    },
    {
      "cell_type": "code",
      "source": [
        "meanVs = [entry['volume']/entry['nsites'] for entry in df_final_010.to_dict(orient='records')]\n",
        "meanZs = []\n",
        "Zs = []\n",
        "\n",
        "for entry in df_final_010.to_dict(orient='records'):\n",
        "  for atom, coef in entry['unit_cell_formula'].items():\n",
        "    Z = coef*element(atom).atomic_number\n",
        "    Zs.append(Z)\n",
        "  meanZ = sum(Zs)/entry['nsites']\n",
        "  meanZs.append(meanZ)\n",
        "  Zs.clear()"
      ],
      "metadata": {
        "id": "l_BRr5Sq9qXo"
      },
      "execution_count": null,
      "outputs": []
    },
    {
      "cell_type": "markdown",
      "source": [
        "We insert these lists (meanVs and meanZs) as new columns in the **final dataframe** and then **write** the feather file.\n",
        "\n",
        "For some weird reason the 'efermi' column type changed to object instead of being a float. The extra command below fixed that."
      ],
      "metadata": {
        "id": "8q_0gKHS9qXp"
      }
    },
    {
      "cell_type": "code",
      "source": [
        "df_final_010['mean_V'] = meanVs\n",
        "df_final_010['mean_Z'] = meanZs\n",
        "\n",
        "del meanVs[:]  \n",
        "del meanZs[:]  \n",
        "del Zs[:] \n",
        "\n",
        "df_final_010['efermi'] = pd.to_numeric(df_final_010['efermi'],errors = 'coerce')\n",
        "\n",
        "feather.write_feather(df_final_010, '/content/gdrive/MyDrive/Materials Project/data_gt010.ft')\n",
        "\n",
        "display(df_final_010)"
      ],
      "metadata": {
        "id": "fKCtZNA79qXq"
      },
      "execution_count": null,
      "outputs": []
    },
    {
      "cell_type": "markdown",
      "source": [
        "# Filtering - ($0.15 \\, \\mu_{B} \\, Å^{-3}$)"
      ],
      "metadata": {
        "id": "Z8l4KEIODi8P"
      }
    },
    {
      "cell_type": "markdown",
      "source": [
        "Here we filter out from the dataframe materials with magnetization <= 0.15. Then we create a copy of it as a list of dicts."
      ],
      "metadata": {
        "id": "IGOOX23JEQtA"
      }
    },
    {
      "cell_type": "code",
      "source": [
        "df_filtered_015 = df.loc[df['total_magnetization_normalized_vol'] >= 0.15]\n",
        "\n",
        "print(df_filtered_015)"
      ],
      "metadata": {
        "id": "TAJkYYuIDkvN"
      },
      "execution_count": null,
      "outputs": []
    },
    {
      "cell_type": "markdown",
      "metadata": {
        "id": "5BOSnqPoDkvZ"
      },
      "source": [
        "**Search for duplicate entries** in terms of chemical composition (pretty_formula column) and keep the ones that occured first.\n",
        "\n",
        "(it's safe because the difference in magnetization is at the 2nd-3rd decimal places)"
      ]
    },
    {
      "cell_type": "code",
      "metadata": {
        "id": "MRgmOJJCDkva"
      },
      "source": [
        "print('Number of duplicate entries found in terms of material id: ', df_filtered_015.material_id.duplicated().sum())\n",
        "print('Number of duplicate entries found in terms of chemical formula: ', df_filtered_015.pretty_formula.duplicated().sum())\n",
        "\n",
        "df_final_015 = df_filtered_015.drop_duplicates(subset=['pretty_formula'], keep='first', ignore_index=True)\n",
        "\n",
        "print(\"\\n\",df_final_015)"
      ],
      "execution_count": null,
      "outputs": []
    },
    {
      "cell_type": "markdown",
      "source": [
        "We calculate the mean unit cell volume per atom and the mean atomic number per unit cell for every entry and save them as lists (meanVs & meanZs) -Takes a few minutes."
      ],
      "metadata": {
        "id": "_SrMevn5Dkva"
      }
    },
    {
      "cell_type": "code",
      "source": [
        "meanVs = [entry['volume']/entry['nsites'] for entry in df_final_015.to_dict(orient='records')]\n",
        "meanZs = []\n",
        "Zs = []\n",
        "\n",
        "for entry in df_final_015.to_dict(orient='records'):\n",
        "  for atom, coef in entry['unit_cell_formula'].items():\n",
        "    Z = coef*element(atom).atomic_number\n",
        "    Zs.append(Z)\n",
        "  meanZ = sum(Zs)/entry['nsites']\n",
        "  meanZs.append(meanZ)\n",
        "  Zs.clear()"
      ],
      "metadata": {
        "id": "Ji9XNId5Dkvb"
      },
      "execution_count": null,
      "outputs": []
    },
    {
      "cell_type": "markdown",
      "source": [
        "We insert these lists (meanVs and meanZs) as new columns in the **final dataframe** and then **write** the feather file.\n",
        "\n",
        "For some weird reason the 'efermi' column type changed to object instead of being a float. The extra command below fixed that."
      ],
      "metadata": {
        "id": "RfjoXkAMDkvc"
      }
    },
    {
      "cell_type": "code",
      "source": [
        "df_final_015['mean_V'] = meanVs\n",
        "df_final_015['mean_Z'] = meanZs\n",
        "\n",
        "del meanVs[:]  \n",
        "del meanZs[:]  \n",
        "del Zs[:] \n",
        "\n",
        "df_final_015['efermi'] = pd.to_numeric(df_final_015['efermi'],errors = 'coerce')\n",
        "\n",
        "feather.write_feather(df_final_015, '/content/gdrive/MyDrive/Materials Project/data_gt015.ft')\n",
        "\n",
        "display(df_final_015)"
      ],
      "metadata": {
        "id": "aLs0B5WTDkvc"
      },
      "execution_count": null,
      "outputs": []
    },
    {
      "cell_type": "markdown",
      "source": [
        "# Results - ($0.007 \\, \\mu_{B} \\, Å^{-3}$)"
      ],
      "metadata": {
        "id": "t-jHnDv16REb"
      }
    },
    {
      "cell_type": "markdown",
      "metadata": {
        "id": "uO1ID87h6REq"
      },
      "source": [
        "**Read** the desired feather file.\n",
        "\n",
        "Another error, resulting through the read_feather command, that inserted None values in the unit_cell_formula for elements that didn't exist in it. This was fixed with the 'for loop' below."
      ]
    },
    {
      "cell_type": "code",
      "metadata": {
        "id": "eVUwnaqj6REr"
      },
      "source": [
        "df_final = feather.read_feather('/content/gdrive/MyDrive/Materials Project/data_gt.avg.ft')\n",
        "\n",
        "for i in list(df_final.index.values):\n",
        "  filtered = {k: v for k, v in df_final['unit_cell_formula'][i].items() if v is not None}\n",
        "  df_final['unit_cell_formula'][i].clear()\n",
        "  df_final['unit_cell_formula'][i].update(filtered)\n",
        "\n",
        "display(df_final)"
      ],
      "execution_count": null,
      "outputs": []
    },
    {
      "cell_type": "code",
      "metadata": {
        "id": "FpwfNe6m6REu"
      },
      "source": [
        "df_final.hist();"
      ],
      "execution_count": null,
      "outputs": []
    },
    {
      "cell_type": "code",
      "source": [
        "fig0007a, ax = plt.subplots(1, 1, figsize=(13,4))\n",
        "\n",
        "sns.histplot(ax=ax, bins=np.arange(0, 1.5, 0.01), data=df_final['e_above_hull'])\n",
        "ax.set_title(r'(a)  Threshold at $0.007 \\; \\mu_{B} \\AA ^{-3}$')\n",
        "plt.xlabel(r'Energy above the convex hull $\\, (eV/atom)$')\n",
        "ax.grid()"
      ],
      "metadata": {
        "id": "WuJm93d16REv"
      },
      "execution_count": null,
      "outputs": []
    },
    {
      "cell_type": "code",
      "source": [
        "fig0007b, axes = plt.subplots(2, 1, figsize=(12,7))\n",
        "fig0007b.suptitle(r'(a)  Threshold at $0.007 \\; \\mu_{B} \\AA ^{-3}$')\n",
        "\n",
        "sns.histplot(ax=axes[0], data=df_final, x='crystal_system', hue='crystal_system', legend=False, palette=palette)\n",
        "axes[0].set_title('Crystal systems')\n",
        "axes[0].xaxis.label.set_visible(False)\n",
        "axes[0].grid()\n",
        "\n",
        "sns.histplot(ax=axes[1], data=df_final, x='spacegroup.number', hue='crystal_system', palette=palette, \n",
        "             bins=np.arange(min(df_final['spacegroup.number']), max(df_final['spacegroup.number']), 1))\n",
        "axes[1].set_title('Spacegroup number')\n",
        "axes[1].xaxis.label.set_visible(False)\n",
        "axes[1].xaxis.set_major_locator(ticker.MultipleLocator(5))\n",
        "axes[1].grid()\n",
        "\n",
        "plt.xticks(rotation=90);\n",
        "#plt.tight_layout()"
      ],
      "metadata": {
        "id": "Rkh8yARA6REx"
      },
      "execution_count": null,
      "outputs": []
    },
    {
      "cell_type": "code",
      "source": [
        "fig0007c, axes = plt.subplots(2, 1, figsize=(12,7))\n",
        "fig0007c.suptitle(r'(a)  Threshold at $0.007 \\; \\mu_{B} \\AA ^{-3}$')\n",
        "\n",
        "sns.histplot(ax=axes[0], bins=np.arange(0, 2500, 10), data=df_final['volume'])\n",
        "axes[0].set_xlabel(r'Unit cell volume $\\, (\\AA^{3})$')\n",
        "axes[0].grid()\n",
        "\n",
        "sns.histplot(ax=axes[1], bins=np.arange(0, 150, 1), data=df_final['nsites'])\n",
        "axes[1].set_xlabel(r'Number of atomic sites in unit cell')\n",
        "axes[1].grid()\n",
        "\n",
        "plt.subplots_adjust(hspace = 0.4)"
      ],
      "metadata": {
        "id": "6JHYbjE06REy"
      },
      "execution_count": null,
      "outputs": []
    },
    {
      "cell_type": "code",
      "source": [
        "fig0007d, axes = plt.subplots(2, 1, figsize=(12,7))\n",
        "fig0007d.suptitle(r'(a)  Threshold at $0.007 \\; \\mu_{B} \\AA ^{-3}$')\n",
        "\n",
        "sns.histplot(ax=axes[0], bins=np.arange(0, 50, 0.5), data=df_final['mean_V'])\n",
        "axes[0].set_xlabel(r'Mean unit cell volume per atom $\\, (\\AA^{3}$)')\n",
        "axes[0].grid()\n",
        "\n",
        "sns.histplot(ax=axes[1], bins=np.arange(0, 100, 1), data=df_final['mean_Z'])\n",
        "axes[1].set_xlabel(r'Mean proton number per atom in unit cell (Z)')\n",
        "axes[1].grid()\n",
        "\n",
        "plt.subplots_adjust(hspace = 0.4)"
      ],
      "metadata": {
        "id": "uoJWahUW6REz"
      },
      "execution_count": null,
      "outputs": []
    },
    {
      "cell_type": "markdown",
      "metadata": {
        "id": "4ED-AUll6RE0"
      },
      "source": [
        "Plot of the mean_Z/atom - mean_V/atom and in terms of the total magnetization of the compound."
      ]
    },
    {
      "cell_type": "code",
      "metadata": {
        "id": "rkxzwy4R6RE2"
      },
      "source": [
        "fig0007e = px.scatter(df_final, x='mean_Z', y='mean_V', hover_data=['material_id'], hover_name='pretty_formula',\n",
        "                 color='total_magnetization_normalized_vol', color_continuous_scale='Inferno_r', template='seaborn')\n",
        "\n",
        "fig0007e.update_xaxes(range=[0,100])\n",
        "fig0007e.update_yaxes(range=[0,60])\n",
        "fig0007e.update_traces(marker=dict(size=4))\n",
        "fig0007e.update_layout(width=1200, height=500,\n",
        "                  title=r'$\\text{(a)  Threshold at} \\; 0.007 \\, \\mu_{B} \\, Å^{-3}$',\n",
        "                  xaxis_title=r'$\\text{Mean atomic number per atom in unit cell (Z)}$',\n",
        "                  yaxis_title=r'$\\text{Mean unit cell volume per atom} \\, (Å^{3})$',\n",
        "                  coloraxis_colorbar=dict(title='Magnetization'))"
      ],
      "execution_count": null,
      "outputs": []
    },
    {
      "cell_type": "markdown",
      "source": [
        "Plot of magnetization - e_above_hull and in terms of their crystal systems done for the 0.007 $\\mu_{B} \\, Å^{-3}$ threshold. "
      ],
      "metadata": {
        "id": "OHU0N14gBa1U"
      }
    },
    {
      "cell_type": "code",
      "source": [
        "fig0007f = px.scatter(df_final, x='e_above_hull', y='total_magnetization_normalized_vol', hover_data=['material_id'], hover_name='pretty_formula',\n",
        "                 color='crystal_system', labels={'crystal_system': 'Crystal System'}, template='seaborn', color_discrete_map=palette)\n",
        "\n",
        "fig0007f.update_yaxes(range=(0, 0.25))\n",
        "fig0007f.update_traces(marker=dict(size=4))\n",
        "fig0007f.update_layout(width=1200, height=500,\n",
        "                  title=r'$\\text{(a)  Threshold at} \\; 0.007 \\, \\mu_{B} \\, Å^{-3}$',\n",
        "                  xaxis_title=r'$\\text{Energy above the convex hull (eV/atom)}$',\n",
        "                  yaxis_title=r'$\\text{Magnetization per unit cell volume} \\, (\\mu_{B} \\, Å^{-3})$')                                "
      ],
      "metadata": {
        "id": "cFnotOtJ6RE4"
      },
      "execution_count": null,
      "outputs": []
    },
    {
      "cell_type": "markdown",
      "metadata": {
        "id": "733e3Noc6RE9"
      },
      "source": [
        "Seperate analysis for entries containing Fe, Ni, Co."
      ]
    },
    {
      "cell_type": "code",
      "metadata": {
        "id": "bTUBd9uh6RE-"
      },
      "source": [
        "dfsep = df_final[df_final['pretty_formula'].str.contains('Fe|Ni|Co')]\n",
        "\n",
        "print(dfsep)\n",
        "print('Number of duplicate entries found:', dfsep.material_id.duplicated().sum())"
      ],
      "execution_count": null,
      "outputs": []
    },
    {
      "cell_type": "markdown",
      "metadata": {
        "id": "-zHrMpVq6RE_"
      },
      "source": [
        "Required cell to clean the None values that emerged from extracting df_sep."
      ]
    },
    {
      "cell_type": "code",
      "metadata": {
        "id": "ykfgYZt86RFA"
      },
      "source": [
        "for i in list(dfsep.index.values):\n",
        "  filtered = {k: v for k, v in dfsep['unit_cell_formula'][i].items() if v is not None}\n",
        "  dfsep['unit_cell_formula'][i].clear()\n",
        "  dfsep['unit_cell_formula'][i].update(filtered)"
      ],
      "execution_count": null,
      "outputs": []
    },
    {
      "cell_type": "markdown",
      "metadata": {
        "id": "rGHuXdbZ6RFB"
      },
      "source": [
        "Here we evaluate the percentage of each of the above elements in every compound and split the data in different dataframes depending on the element of choice."
      ]
    },
    {
      "cell_type": "markdown",
      "metadata": {
        "id": "aElqSuNy6RFC"
      },
      "source": [
        "-1st extraction\n",
        "\n",
        "(Fe, Ni, Co % > 50 %)"
      ]
    },
    {
      "cell_type": "code",
      "metadata": {
        "id": "y2Y4RM2g6RFC"
      },
      "source": [
        "listFe1 = []\n",
        "listNi1 = []\n",
        "listCo1 = []\n",
        "Feperc1 = []\n",
        "Niperc1 = []\n",
        "Coperc1 = []\n",
        "\n",
        "for entry in dfsep.to_dict(orient=\"records\"):\n",
        "  a = entry['unit_cell_formula']\n",
        "  b = entry['nsites']\n",
        "  coef = a.get('O', 0)\n",
        "  bnew = b - coef \n",
        "  anew = {k: v / bnew for bnew in (bnew,) for k, v in a.items()}\n",
        "  for atom, perc in anew.items():\n",
        "    if perc >= 0.5:\n",
        "      if atom == 'Fe':\n",
        "        listFe1.append(entry)\n",
        "        Feperc1.append(perc*100)\n",
        "      elif atom == 'Ni':\n",
        "        listNi1.append(entry)\n",
        "        Niperc1.append(perc*100)\n",
        "      elif atom == 'Co':\n",
        "        listCo1.append(entry)\n",
        "        Coperc1.append(perc*100)\n",
        "      elif atom == 'O':\n",
        "        continue\n",
        "  else:\n",
        "    continue"
      ],
      "execution_count": null,
      "outputs": []
    },
    {
      "cell_type": "code",
      "metadata": {
        "id": "oFJr5Z8D6RFD"
      },
      "source": [
        "dfFe1 = pd.DataFrame(listFe1)\n",
        "dfFe1['Fe_percentage'] = Feperc1\n",
        "\n",
        "dfNi1 = pd.DataFrame(listNi1)\n",
        "dfNi1['Ni_percentage'] = Niperc1\n",
        "\n",
        "dfCo1 = pd.DataFrame(listCo1)\n",
        "dfCo1['Co_percentage'] = Coperc1\n",
        "\n",
        "print(dfFe1)\n",
        "print('Number of duplicate entries found:', dfFe1.material_id.duplicated().sum())\n",
        "print('\\n', dfNi1)\n",
        "print('Number of duplicate entries found:', dfNi1.material_id.duplicated().sum())\n",
        "print('\\n', dfCo1)\n",
        "print('Number of duplicate entries found:', dfCo1.material_id.duplicated().sum())"
      ],
      "execution_count": null,
      "outputs": []
    },
    {
      "cell_type": "code",
      "source": [
        "dfFe1['total_magnetization_normalized_vol'].max()"
      ],
      "metadata": {
        "id": "Ln10m1K6Stvb"
      },
      "execution_count": null,
      "outputs": []
    },
    {
      "cell_type": "code",
      "metadata": {
        "id": "8HlBJAqa6RFD"
      },
      "source": [
        "fig0007sepFe1 = px.scatter(dfFe1, x='mean_V', y='Fe_percentage', hover_data=['material_id', 'e_above_hull'], hover_name='pretty_formula',\n",
        "                 color='total_magnetization_normalized_vol', color_continuous_scale=['#f6d746','#f6d746','#fca50a','#f3761b','#dd513a','#ba3655','#932667',\n",
        "                                                                                     '#6a176e','#420a68','#160b39'], template='seaborn')\n",
        "fig0007sepFe1.update_xaxes(range=[5,25])\n",
        "fig0007sepFe1.update_yaxes(range=[45,105])\n",
        "fig0007sepFe1.update_traces(marker=dict(size=4))\n",
        "fig0007sepFe1.update_layout(width=1200, height=500,\n",
        "                  title=r'$\\text{(a)  Threshold at} \\; 0.007 \\, \\mu_{B} \\, Å^{-3}$',\n",
        "                  xaxis_title=r'$\\text{Mean unit cell volume per atom} \\, (Å^{3})$',\n",
        "                  yaxis_title=r'$\\text{Fe} \\, (\\%)$',\n",
        "                  coloraxis_colorbar=dict(title='Magnetization'))"
      ],
      "execution_count": null,
      "outputs": []
    },
    {
      "cell_type": "code",
      "source": [
        "dfNi1['total_magnetization_normalized_vol'].max()"
      ],
      "metadata": {
        "id": "BOANgN-9TGkh"
      },
      "execution_count": null,
      "outputs": []
    },
    {
      "cell_type": "code",
      "metadata": {
        "id": "SyOAssVp6RFE"
      },
      "source": [
        "fig0007sepNi1 = px.scatter(dfNi1, x='mean_V', y='Ni_percentage', hover_data=['material_id', 'e_above_hull'], hover_name='pretty_formula',\n",
        "                 color='total_magnetization_normalized_vol', color_continuous_scale=['#f6d746','#f6d746','#fca50a','#f3761b','#dd513a','#ba3655','#932667',\n",
        "                                                                                     '#6a176e'], template='seaborn')\n",
        "fig0007sepNi1.update_xaxes(range=[5,25])\n",
        "fig0007sepNi1.update_yaxes(range=[40,105])\n",
        "fig0007sepNi1.update_traces(marker=dict(size=4))\n",
        "fig0007sepNi1.update_layout(width=1200, height=500,\n",
        "                  title=r'$\\text{(a)  Threshold at} \\; 0.007 \\, \\mu_{B} \\, Å^{-3}$',\n",
        "                  xaxis_title=r'$\\text{Mean unit cell volume per atom} \\, (Å^{3})$',\n",
        "                  yaxis_title=r'$\\text{Ni} \\, (\\%)$',\n",
        "                  coloraxis_colorbar=dict(title='Magnetization'))"
      ],
      "execution_count": null,
      "outputs": []
    },
    {
      "cell_type": "code",
      "source": [
        "dfCo1['total_magnetization_normalized_vol'].max()"
      ],
      "metadata": {
        "id": "puwdNJESTJbB"
      },
      "execution_count": null,
      "outputs": []
    },
    {
      "cell_type": "code",
      "metadata": {
        "id": "8rDKF4jT6RFF"
      },
      "source": [
        "fig0007sepCo1 = px.scatter(dfCo1, x='mean_V', y='Co_percentage', hover_data=['material_id', 'e_above_hull'], hover_name='pretty_formula',\n",
        "                 color='total_magnetization_normalized_vol', color_continuous_scale=['#f6d746','#f6d746','#fca50a','#f3761b','#dd513a','#ba3655','#932667',\n",
        "                                                                                     '#6a176e','#420a68'], template='seaborn')\n",
        "fig0007sepCo1.update_xaxes(range=[7,18])\n",
        "fig0007sepCo1.update_yaxes(range=[45,105])\n",
        "fig0007sepCo1.update_traces(marker=dict(size=4))\n",
        "fig0007sepCo1.update_layout(width=1200, height=500,\n",
        "                  title=r'$\\text{(a)  Threshold at} \\; 0.007 \\, \\mu_{B} \\, Å^{-3}$',\n",
        "                  xaxis_title=r'$\\text{Mean unit cell volume per atom} \\, (Å^{3})$',\n",
        "                  yaxis_title=r'$\\text{Co} \\, (\\%)$',\n",
        "                  coloraxis_colorbar=dict(title='Magnetization'))"
      ],
      "execution_count": null,
      "outputs": []
    },
    {
      "cell_type": "markdown",
      "metadata": {
        "id": "Pchc0WG46RFG"
      },
      "source": [
        "-2nd extraction\n",
        "\n",
        "(Fe, Ni , Co % > 30 %  AND  Fe, Ni, Co % > of the rest elements in the compound)"
      ]
    },
    {
      "cell_type": "code",
      "metadata": {
        "id": "eXzOvNQL6RFH"
      },
      "source": [
        "listFe2 = []\n",
        "listNi2 = []\n",
        "listCo2 = []\n",
        "Feperc2 = []\n",
        "Niperc2 = []\n",
        "Coperc2 = []\n",
        "\n",
        "for entry in dfsep.to_dict(orient=\"records\"):\n",
        "  a = entry['unit_cell_formula']\n",
        "  b = entry['nsites']\n",
        "  coef = a.get('O', 0)\n",
        "  bnew = b - coef \n",
        "  anew = {k: v / bnew for bnew in (bnew,) for k, v in a.items()}\n",
        "  if 'O' in anew:\n",
        "    del anew['O']\n",
        "  for atom, perc in anew.items():\n",
        "    if (atom == 'Fe' and perc==max(anew.values()) and perc>=0.3):\n",
        "      listFe2.append(entry)\n",
        "      Feperc2.append(perc*100)\n",
        "    if (atom == 'Ni' and perc==max(anew.values()) and perc>=0.3):\n",
        "      listNi2.append(entry)\n",
        "      Niperc2.append(perc*100)\n",
        "    if (atom == 'Co' and perc==max(anew.values()) and perc>=0.3):\n",
        "      listCo2.append(entry)\n",
        "      Coperc2.append(perc*100)\n",
        "  else:\n",
        "    continue"
      ],
      "execution_count": null,
      "outputs": []
    },
    {
      "cell_type": "markdown",
      "metadata": {
        "id": "-9GAD99k6RFH"
      },
      "source": [
        "The seperate dataframes."
      ]
    },
    {
      "cell_type": "code",
      "metadata": {
        "id": "JINvOkmJ6RFI"
      },
      "source": [
        "dfFe2 = pd.DataFrame(listFe2)\n",
        "dfFe2['Fe_percentage'] = Feperc2\n",
        "\n",
        "dfNi2 = pd.DataFrame(listNi2)\n",
        "dfNi2['Ni_percentage'] = Niperc2\n",
        "\n",
        "dfCo2 = pd.DataFrame(listCo2)\n",
        "dfCo2['Co_percentage'] = Coperc2\n",
        "\n",
        "print(dfFe2)\n",
        "print('Number of duplicate entries found:', dfFe2.material_id.duplicated().sum())\n",
        "print('\\n', dfNi2)\n",
        "print('Number of duplicate entries found:', dfNi2.material_id.duplicated().sum())\n",
        "print('\\n', dfCo2)\n",
        "print('Number of duplicate entries found:', dfCo2.material_id.duplicated().sum())"
      ],
      "execution_count": null,
      "outputs": []
    },
    {
      "cell_type": "code",
      "source": [
        "dfFe2['total_magnetization_normalized_vol'].max()"
      ],
      "metadata": {
        "id": "M6pj2M7gUUUO"
      },
      "execution_count": null,
      "outputs": []
    },
    {
      "cell_type": "code",
      "metadata": {
        "id": "hCnS6vuv6RFI"
      },
      "source": [
        "fig0007sepFe2 = px.scatter(dfFe2, x='mean_V', y='Fe_percentage', hover_data=['material_id', 'e_above_hull'], hover_name='pretty_formula',\n",
        "                 color='total_magnetization_normalized_vol', color_continuous_scale=['#f6d746','#f6d746','#fca50a','#f3761b','#dd513a','#ba3655','#932667',\n",
        "                                                                                     '#6a176e','#420a68','#160b39'], template='seaborn')\n",
        "fig0007sepFe2.update_xaxes(range=[5,30])\n",
        "fig0007sepFe2.update_yaxes(range=[25,105])\n",
        "fig0007sepFe2.update_traces(marker=dict(size=4))\n",
        "fig0007sepFe2.update_layout(width=1200, height=500,\n",
        "                  title=r'$\\text{(a)  Threshold at} \\; 0.007 \\, \\mu_{B} \\, Å^{-3}$',\n",
        "                  xaxis_title=r'$\\text{Mean unit cell volume per atom} \\, (Å^{3})$',\n",
        "                  yaxis_title=r'$\\text{Fe} \\, (\\%)$',\n",
        "                  coloraxis_colorbar=dict(title='Magnetization'))"
      ],
      "execution_count": null,
      "outputs": []
    },
    {
      "cell_type": "code",
      "source": [
        "dfNi2['total_magnetization_normalized_vol'].max()"
      ],
      "metadata": {
        "id": "9KKQWCRhUpZ6"
      },
      "execution_count": null,
      "outputs": []
    },
    {
      "cell_type": "code",
      "metadata": {
        "id": "5eGQtZF66RFJ"
      },
      "source": [
        "fig0007sepNi2 = px.scatter(dfNi2, x='mean_V', y='Ni_percentage', hover_data=['material_id', 'e_above_hull'], hover_name='pretty_formula',\n",
        "                 color='total_magnetization_normalized_vol', color_continuous_scale=['#f6d746','#f6d746','#fca50a','#f3761b','#dd513a','#ba3655','#932667',\n",
        "                                                                                     '#6a176e'], template='seaborn')\n",
        "fig0007sepNi2.update_xaxes(range=[8,22])\n",
        "fig0007sepNi2.update_yaxes(range=[25,105])\n",
        "fig0007sepNi2.update_traces(marker=dict(size=4))\n",
        "fig0007sepNi2.update_layout(width=1200, height=500,\n",
        "                  title=r'$\\text{(a)  Threshold at} \\; 0.007 \\, \\mu_{B} \\, Å^{-3}$',\n",
        "                  xaxis_title=r'$\\text{Mean unit cell volume per atom} \\, (Å^{3})$',\n",
        "                  yaxis_title=r'$\\text{Ni} \\, (\\%)$',\n",
        "                  coloraxis_colorbar=dict(title='Magnetization'))"
      ],
      "execution_count": null,
      "outputs": []
    },
    {
      "cell_type": "code",
      "source": [
        "dfCo2['total_magnetization_normalized_vol'].max()"
      ],
      "metadata": {
        "id": "SRhKhZaIcFTN"
      },
      "execution_count": null,
      "outputs": []
    },
    {
      "cell_type": "code",
      "metadata": {
        "id": "Lq90AKfH6RFK"
      },
      "source": [
        "fig0007sepCo2 = px.scatter(dfCo2, x='mean_V', y='Co_percentage', hover_data=['material_id', 'e_above_hull'], hover_name='pretty_formula',\n",
        "                 color='total_magnetization_normalized_vol', color_continuous_scale=['#f6d746','#f6d746','#fca50a','#f3761b','#dd513a','#ba3655','#932667',\n",
        "                                                                                     '#6a176e','#420a68'], template='seaborn')\n",
        "fig0007sepCo2.update_xaxes(range=[7,24])\n",
        "fig0007sepCo2.update_yaxes(range=[25,105])\n",
        "fig0007sepCo2.update_traces(marker=dict(size=4))\n",
        "fig0007sepCo2.update_layout(width=1200, height=500,\n",
        "                  title=r'$\\text{(a)  Threshold at} \\; 0.007 \\, \\mu_{B} \\, Å^{-3}$',\n",
        "                  xaxis_title=r'$\\text{Mean unit cell volume per atom} \\, (Å^{3})$',\n",
        "                  yaxis_title=r'$\\text{Co} \\, (\\%)$',\n",
        "                  coloraxis_colorbar=dict(title='Magnetization'))"
      ],
      "execution_count": null,
      "outputs": []
    },
    {
      "cell_type": "markdown",
      "source": [
        "# Results - ($0.05 \\, \\mu_{B} \\, Å^{-3}$)"
      ],
      "metadata": {
        "id": "tB6VRD9Ksm0e"
      }
    },
    {
      "cell_type": "markdown",
      "metadata": {
        "id": "pvxGTVzSIzo8"
      },
      "source": [
        "**Read** the desired feather file.\n",
        "\n",
        "Another error, resulting through the read_feather command, that inserted None values in the unit_cell_formula for elements that didn't exist in it. This was fixed with the 'for loop' below."
      ]
    },
    {
      "cell_type": "code",
      "metadata": {
        "id": "AwUuFSObP-AA"
      },
      "source": [
        "df_final = feather.read_feather('/content/gdrive/MyDrive/Materials Project/data_gt005.ft')\n",
        "\n",
        "for i in list(df_final.index.values):\n",
        "  filtered = {k: v for k, v in df_final['unit_cell_formula'][i].items() if v is not None}\n",
        "  df_final['unit_cell_formula'][i].clear()\n",
        "  df_final['unit_cell_formula'][i].update(filtered)\n",
        "\n",
        "display(df_final)"
      ],
      "execution_count": null,
      "outputs": []
    },
    {
      "cell_type": "code",
      "metadata": {
        "id": "2agBNh2qXKKk"
      },
      "source": [
        "df_final.hist();"
      ],
      "execution_count": null,
      "outputs": []
    },
    {
      "cell_type": "code",
      "source": [
        "fig005a, ax = plt.subplots(1, 1, figsize=(13,4))\n",
        "\n",
        "sns.histplot(ax=ax, bins=np.arange(0, 1.5, 0.01), data=df_final['e_above_hull'])\n",
        "ax.set_title(r'(b)  Threshold at $0.05 \\; \\mu_{B} \\AA ^{-3}$')\n",
        "plt.xlabel(r'Energy above the convex hull $\\, (eV/atom)$')\n",
        "ax.grid()"
      ],
      "metadata": {
        "id": "cuo4Xkjotn_b"
      },
      "execution_count": null,
      "outputs": []
    },
    {
      "cell_type": "code",
      "source": [
        "fig005b, axes = plt.subplots(2, 1, figsize=(12,7))\n",
        "fig005b.suptitle(r'(b)  Threshold at $0.05 \\; \\mu_{B} \\AA ^{-3}$')\n",
        "\n",
        "sns.histplot(ax=axes[0], data=df_final, x='crystal_system', hue='crystal_system', legend=False, palette=palette)\n",
        "\n",
        "axes[0].set_title('Crystal systems')\n",
        "axes[0].xaxis.label.set_visible(False)\n",
        "axes[0].grid()\n",
        "\n",
        "sns.histplot(ax=axes[1], data=df_final, x='spacegroup.number', hue='crystal_system', palette=palette, \n",
        "             bins=np.arange(min(df_final['spacegroup.number']), max(df_final['spacegroup.number']), 1))\n",
        "\n",
        "axes[1].set_title('Spacegroup number')\n",
        "axes[1].xaxis.label.set_visible(False)\n",
        "axes[1].xaxis.set_major_locator(ticker.MultipleLocator(5))\n",
        "axes[1].grid()\n",
        "\n",
        "plt.xticks(rotation=90);"
      ],
      "metadata": {
        "id": "rLq334e5-k0w"
      },
      "execution_count": null,
      "outputs": []
    },
    {
      "cell_type": "code",
      "source": [
        "fig005c, axes = plt.subplots(2, 1, figsize=(12,7))\n",
        "fig005c.suptitle(r'(b)  Threshold at $0.05 \\; \\mu_{B} \\AA ^{-3}$')\n",
        "\n",
        "sns.histplot(ax=axes[0], bins=np.arange(0, 1500, 10), data=df_final['volume'])\n",
        "axes[0].set_xlabel(r'Unit cell volume $\\, (\\AA^{3})$')\n",
        "axes[0].grid()\n",
        "\n",
        "sns.histplot(ax=axes[1], bins=np.arange(0, 140, 1), data=df_final['nsites'])\n",
        "axes[1].set_xlabel(r'Number of atomic sites in unit cell')\n",
        "axes[1].grid()\n",
        "\n",
        "plt.subplots_adjust(hspace = 0.4)"
      ],
      "metadata": {
        "id": "XJsx355aK961"
      },
      "execution_count": null,
      "outputs": []
    },
    {
      "cell_type": "code",
      "source": [
        "fig005d, axes = plt.subplots(2, 1, figsize=(12,7))\n",
        "fig005d.suptitle(r'(b)  Threshold at $0.05 \\; \\mu_{B} \\AA ^{-3}$')\n",
        "\n",
        "sns.histplot(ax=axes[0], bins=np.arange(0, 50, 0.5), data=df_final['mean_V'])\n",
        "axes[0].set_xlabel(r'Mean unit cell volume per atom $\\, (\\AA^{3}$)')\n",
        "axes[0].grid()\n",
        "\n",
        "sns.histplot(ax=axes[1], bins=np.arange(0, 100, 1), data=df_final['mean_Z'])\n",
        "axes[1].set_xlabel(r'Mean proton number per atom in unit cell (Z)')\n",
        "axes[1].grid()\n",
        "\n",
        "plt.subplots_adjust(hspace = 0.4)"
      ],
      "metadata": {
        "id": "WVMSP12pIKhG"
      },
      "execution_count": null,
      "outputs": []
    },
    {
      "cell_type": "markdown",
      "metadata": {
        "id": "-1lQRNbwzwuI"
      },
      "source": [
        "Plot of the mean_Z/atom - mean_V/atom and in terms of the total magnetization of the compound."
      ]
    },
    {
      "cell_type": "code",
      "metadata": {
        "id": "RUNyZAidheaK"
      },
      "source": [
        "fig005e = px.scatter(df_final, x='mean_Z', y='mean_V', hover_data=['material_id'], hover_name='pretty_formula',\n",
        "                 color='total_magnetization_normalized_vol', color_continuous_scale=['#fca50a','#f3761b','#dd513a','#ba3655','#932667',\n",
        "                                                                                     '#6a176e','#420a68','#160b39','#000004'], template='seaborn')\n",
        "\n",
        "fig005e.update_xaxes(range=[0,100])\n",
        "fig005e.update_yaxes(range=[0,60])\n",
        "fig005e.update_traces(marker=dict(size=4))\n",
        "fig005e.update_layout(width=1200, height=500,\n",
        "                  title=r'$\\text{(b)  Threshold at} \\; 0.5 \\, \\mu_{B} \\, Å^{-3}$',\n",
        "                  xaxis_title=r'$\\text{Mean atomic number per atom in unit cell (Z)}$',\n",
        "                  yaxis_title=r'$\\text{Mean unit cell volume per atom} \\, (Å^{3})$',\n",
        "                  coloraxis_colorbar=dict(title='Magnetization'))"
      ],
      "execution_count": null,
      "outputs": []
    },
    {
      "cell_type": "markdown",
      "source": [
        "Plot of magnetization - e_above_hull and in terms of their crystal systems done for the 0.05 $\\mu_{B} \\, Å^{-3}$ threshold. "
      ],
      "metadata": {
        "id": "xO5xLll1BmhK"
      }
    },
    {
      "cell_type": "code",
      "source": [
        "fig005f = px.scatter(df_final, x='e_above_hull', y='total_magnetization_normalized_vol', hover_data=['material_id'], hover_name='pretty_formula',\n",
        "                 color='crystal_system', labels={'crystal_system': 'Crystal System'}, template='seaborn', color_discrete_map=palette)\n",
        "\n",
        "fig005f.update_traces(marker=dict(size=4))\n",
        "fig005f.update_layout(width=1200, height=500,\n",
        "                  title=r'$\\text{(b)  Threshold at} \\; 0.5 \\, \\mu_{B} \\, Å^{-3}$',\n",
        "                  xaxis_title=r'$\\text{Energy above the convex hull (eV/atom)}$',\n",
        "                  yaxis_title=r'$\\text{Magnetization per unit cell volume} \\, (\\mu_{B} \\, Å^{-3})$')                                "
      ],
      "metadata": {
        "id": "kuSMn5HbBmhL"
      },
      "execution_count": null,
      "outputs": []
    },
    {
      "cell_type": "markdown",
      "metadata": {
        "id": "4mZDYbPYR9Z6"
      },
      "source": [
        "Seperate analysis for entries containing Fe, Ni, Co."
      ]
    },
    {
      "cell_type": "code",
      "metadata": {
        "id": "SX8HDRIvR4Rw"
      },
      "source": [
        "dfsep = df_final[df_final['pretty_formula'].str.contains('Fe|Ni|Co')]\n",
        "\n",
        "print(dfsep)\n",
        "print('Number of duplicate entries found:', dfsep.material_id.duplicated().sum())"
      ],
      "execution_count": null,
      "outputs": []
    },
    {
      "cell_type": "markdown",
      "metadata": {
        "id": "MTVtGgqSVyg1"
      },
      "source": [
        "Required cell to clean the None values that emerged from extracting df_sep."
      ]
    },
    {
      "cell_type": "code",
      "metadata": {
        "id": "yTG4YbqMg5re"
      },
      "source": [
        "for i in list(dfsep.index.values):\n",
        "  filtered = {k: v for k, v in dfsep['unit_cell_formula'][i].items() if v is not None}\n",
        "  dfsep['unit_cell_formula'][i].clear()\n",
        "  dfsep['unit_cell_formula'][i].update(filtered)"
      ],
      "execution_count": null,
      "outputs": []
    },
    {
      "cell_type": "markdown",
      "metadata": {
        "id": "oc5F8IoTkCgu"
      },
      "source": [
        "Here we evaluate the percentage of each of the above elements in every compound and split the data in different dataframes depending on the element of choice."
      ]
    },
    {
      "cell_type": "markdown",
      "metadata": {
        "id": "LKlnGzRZTbfs"
      },
      "source": [
        "-1st extraction\n",
        "\n",
        "(Fe, Ni, Co % > 50 %)"
      ]
    },
    {
      "cell_type": "code",
      "metadata": {
        "id": "swX7T-FEmTjj"
      },
      "source": [
        "listFe1 = []\n",
        "listNi1 = []\n",
        "listCo1 = []\n",
        "Feperc1 = []\n",
        "Niperc1 = []\n",
        "Coperc1 = []\n",
        "\n",
        "for entry in dfsep.to_dict(orient=\"records\"):\n",
        "  a = entry['unit_cell_formula']\n",
        "  b = entry['nsites']\n",
        "  coef = a.get('O', 0)\n",
        "  bnew = b - coef \n",
        "  anew = {k: v / bnew for bnew in (bnew,) for k, v in a.items()}\n",
        "  for atom, perc in anew.items():\n",
        "    if perc >= 0.5:\n",
        "      if atom == 'Fe':\n",
        "        listFe1.append(entry)\n",
        "        Feperc1.append(perc*100)\n",
        "      elif atom == 'Ni':\n",
        "        listNi1.append(entry)\n",
        "        Niperc1.append(perc*100)\n",
        "      elif atom == 'Co':\n",
        "        listCo1.append(entry)\n",
        "        Coperc1.append(perc*100)\n",
        "      elif atom == 'O':\n",
        "        continue\n",
        "  else:\n",
        "    continue"
      ],
      "execution_count": null,
      "outputs": []
    },
    {
      "cell_type": "code",
      "metadata": {
        "id": "ky7z_Aj2SlJl"
      },
      "source": [
        "dfFe1 = pd.DataFrame(listFe1)\n",
        "dfFe1['Fe_percentage'] = Feperc1\n",
        "\n",
        "dfNi1 = pd.DataFrame(listNi1)\n",
        "dfNi1['Ni_percentage'] = Niperc1\n",
        "\n",
        "dfCo1 = pd.DataFrame(listCo1)\n",
        "dfCo1['Co_percentage'] = Coperc1\n",
        "\n",
        "print(dfFe1)\n",
        "print('Number of duplicate entries found:', dfFe1.material_id.duplicated().sum())\n",
        "print('\\n', dfNi1)\n",
        "print('Number of duplicate entries found:', dfNi1.material_id.duplicated().sum())\n",
        "print('\\n', dfCo1)\n",
        "print('Number of duplicate entries found:', dfCo1.material_id.duplicated().sum())"
      ],
      "execution_count": null,
      "outputs": []
    },
    {
      "cell_type": "code",
      "source": [
        "dfFe1['total_magnetization_normalized_vol'].max()"
      ],
      "metadata": {
        "id": "3O0_vurLZnYY"
      },
      "execution_count": null,
      "outputs": []
    },
    {
      "cell_type": "code",
      "metadata": {
        "id": "VxBAeAMCiogA"
      },
      "source": [
        "fig005sepFe1 = px.scatter(dfFe1, x='mean_V', y='Fe_percentage', hover_data=['material_id', 'e_above_hull'], hover_name='pretty_formula',\n",
        "                 color='total_magnetization_normalized_vol', color_continuous_scale=['#fca50a','#f3761b','#dd513a','#ba3655','#932667','#6a176e','#420a68',\n",
        "                                                                                     '#160b39'], template='seaborn')\n",
        "fig005sepFe1.update_xaxes(range=[5,25])\n",
        "fig005sepFe1.update_yaxes(range=[45,105])\n",
        "fig005sepFe1.update_traces(marker=dict(size=4))\n",
        "fig005sepFe1.update_layout(width=1200, height=500,\n",
        "                  title=r'$\\text{(b)  Threshold at} \\; 0.5 \\, \\mu_{B} \\, Å^{-3}$',\n",
        "                  xaxis_title=r'$\\text{Mean unit cell volume per atom} \\, (Å^{3})$',\n",
        "                  yaxis_title=r'$\\text{Fe} \\, (\\%)$',\n",
        "                  coloraxis_colorbar=dict(title='Magnetization'))"
      ],
      "execution_count": null,
      "outputs": []
    },
    {
      "cell_type": "code",
      "source": [
        "dfNi1['total_magnetization_normalized_vol'].max()"
      ],
      "metadata": {
        "id": "2oo4U-scZ7Zw"
      },
      "execution_count": null,
      "outputs": []
    },
    {
      "cell_type": "code",
      "metadata": {
        "id": "EfU8YWPUjB5o"
      },
      "source": [
        "fig005sepNi1 = px.scatter(dfNi1, x='mean_V', y='Ni_percentage', hover_data=['material_id', 'e_above_hull'], hover_name='pretty_formula',\n",
        "                 color='total_magnetization_normalized_vol', color_continuous_scale=['#fca50a','#f3761b','#dd513a','#ba3655','#932667','#6a176e','#420a68'],\n",
        "                 template='seaborn')\n",
        "\n",
        "fig005sepNi1.update_xaxes(range=[5,25])\n",
        "fig005sepNi1.update_yaxes(range=[40,105])\n",
        "fig005sepNi1.update_traces(marker=dict(size=4))\n",
        "fig005sepNi1.update_layout(width=1200, height=500,\n",
        "                  title=r'$\\text{(b)  Threshold at} \\; 0.5 \\, \\mu_{B} \\, Å^{-3}$',\n",
        "                  xaxis_title=r'$\\text{Mean unit cell volume per atom} \\, (Å^{3})$',\n",
        "                  yaxis_title=r'$\\text{Ni} \\, (\\%)$',\n",
        "                  coloraxis_colorbar=dict(title='Magnetization'))"
      ],
      "execution_count": null,
      "outputs": []
    },
    {
      "cell_type": "code",
      "source": [
        "dfCo1['total_magnetization_normalized_vol'].max()"
      ],
      "metadata": {
        "id": "Ohdc81u_aOdJ"
      },
      "execution_count": null,
      "outputs": []
    },
    {
      "cell_type": "code",
      "metadata": {
        "id": "HfGcE4AKjOcg"
      },
      "source": [
        "fig005sepCo1 = px.scatter(dfCo1, x='mean_V', y='Co_percentage', hover_data=['material_id', 'e_above_hull'], hover_name='pretty_formula',\n",
        "                 color='total_magnetization_normalized_vol', color_continuous_scale=['#fca50a','#f3761b','#dd513a','#ba3655','#932667','#6a176e','#420a68',\n",
        "                                                                                     '#160b39'], template='seaborn')\n",
        "fig005sepCo1.update_xaxes(range=[7,18])\n",
        "fig005sepCo1.update_yaxes(range=[45,105])\n",
        "fig005sepCo1.update_traces(marker=dict(size=4))\n",
        "fig005sepCo1.update_layout(width=1200, height=500,\n",
        "                  title=r'$\\text{(b)  Threshold at} \\; 0.5 \\, \\mu_{B} \\, Å^{-3}$',\n",
        "                  xaxis_title=r'$\\text{Mean unit cell volume per atom} \\, (Å^{3})$',\n",
        "                  yaxis_title=r'$\\text{Co} \\, (\\%)$',\n",
        "                  coloraxis_colorbar=dict(title='Magnetization'))"
      ],
      "execution_count": null,
      "outputs": []
    },
    {
      "cell_type": "markdown",
      "metadata": {
        "id": "213Xn9FuTsn8"
      },
      "source": [
        "-2nd extraction\n",
        "\n",
        "(Fe, Ni , Co % > 30 %  AND  Fe, Ni, Co % > of the rest elements in the compound)"
      ]
    },
    {
      "cell_type": "code",
      "metadata": {
        "id": "YKFgwz72Ez0U"
      },
      "source": [
        "listFe2 = []\n",
        "listNi2 = []\n",
        "listCo2 = []\n",
        "Feperc2 = []\n",
        "Niperc2 = []\n",
        "Coperc2 = []\n",
        "\n",
        "for entry in dfsep.to_dict(orient=\"records\"):\n",
        "  a = entry['unit_cell_formula']\n",
        "  b = entry['nsites']\n",
        "  coef = a.get('O', 0)\n",
        "  bnew = b - coef \n",
        "  anew = {k: v / bnew for bnew in (bnew,) for k, v in a.items()}\n",
        "  if 'O' in anew:\n",
        "    del anew['O']\n",
        "  for atom, perc in anew.items():\n",
        "    if (atom == 'Fe' and perc==max(anew.values()) and perc>=0.3):\n",
        "      listFe2.append(entry)\n",
        "      Feperc2.append(perc*100)\n",
        "    if (atom == 'Ni' and perc==max(anew.values()) and perc>=0.3):\n",
        "      listNi2.append(entry)\n",
        "      Niperc2.append(perc*100)\n",
        "    if (atom == 'Co' and perc==max(anew.values()) and perc>=0.3):\n",
        "      listCo2.append(entry)\n",
        "      Coperc2.append(perc*100)\n",
        "  else:\n",
        "    continue"
      ],
      "execution_count": null,
      "outputs": []
    },
    {
      "cell_type": "markdown",
      "metadata": {
        "id": "QFwfnG3YSIuL"
      },
      "source": [
        "The seperate dataframes."
      ]
    },
    {
      "cell_type": "code",
      "metadata": {
        "id": "_MzUXsUpmf-e"
      },
      "source": [
        "dfFe2 = pd.DataFrame(listFe2)\n",
        "dfFe2['Fe_percentage'] = Feperc2\n",
        "\n",
        "dfNi2 = pd.DataFrame(listNi2)\n",
        "dfNi2['Ni_percentage'] = Niperc2\n",
        "\n",
        "dfCo2 = pd.DataFrame(listCo2)\n",
        "dfCo2['Co_percentage'] = Coperc2\n",
        "\n",
        "print(dfFe2)\n",
        "print('Number of duplicate entries found:', dfFe2.material_id.duplicated().sum())\n",
        "print('\\n', dfNi2)\n",
        "print('Number of duplicate entries found:', dfNi2.material_id.duplicated().sum())\n",
        "print('\\n', dfCo2)\n",
        "print('Number of duplicate entries found:', dfCo2.material_id.duplicated().sum())"
      ],
      "execution_count": null,
      "outputs": []
    },
    {
      "cell_type": "code",
      "source": [
        "dfFe2['total_magnetization_normalized_vol'].max()"
      ],
      "metadata": {
        "id": "VHRcZJYyakA7"
      },
      "execution_count": null,
      "outputs": []
    },
    {
      "cell_type": "code",
      "metadata": {
        "id": "tMmxmkbYjd4l"
      },
      "source": [
        "fig005sepFe2 = px.scatter(dfFe2, x='mean_V', y='Fe_percentage', hover_data=['material_id', 'e_above_hull'], hover_name='pretty_formula',\n",
        "                 color='total_magnetization_normalized_vol', color_continuous_scale=['#fca50a','#f3761b','#dd513a','#ba3655','#932667','#6a176e','#420a68',\n",
        "                                                                                     '#160b39'], template='seaborn')\n",
        "fig005sepFe2.update_xaxes(range=[5,30])\n",
        "fig005sepFe2.update_yaxes(range=[25,105])\n",
        "fig005sepFe2.update_traces(marker=dict(size=4))\n",
        "fig005sepFe2.update_layout(width=1200, height=500,\n",
        "                  title=r'$\\text{(b)  Threshold at} \\; 0.5 \\, \\mu_{B} \\, Å^{-3}$',\n",
        "                  xaxis_title=r'$\\text{Mean unit cell volume per atom} \\, (Å^{3})$',\n",
        "                  yaxis_title=r'$\\text{Fe} \\, (\\%)$',\n",
        "                  coloraxis_colorbar=dict(title='Magnetization'))"
      ],
      "execution_count": null,
      "outputs": []
    },
    {
      "cell_type": "code",
      "source": [
        "dfNi2['total_magnetization_normalized_vol'].max()"
      ],
      "metadata": {
        "id": "jZOKdAPoa5Dy"
      },
      "execution_count": null,
      "outputs": []
    },
    {
      "cell_type": "code",
      "metadata": {
        "id": "Z2aRo5FvjqJ_"
      },
      "source": [
        "fig005sepNi2 = px.scatter(dfNi2, x='mean_V', y='Ni_percentage', hover_data=['material_id', 'e_above_hull'], hover_name='pretty_formula',\n",
        "                 color='total_magnetization_normalized_vol', color_continuous_scale=['#fca50a','#f3761b','#dd513a','#ba3655','#932667','#6a176e'], \n",
        "                 template='seaborn')\n",
        "\n",
        "fig005sepNi2.update_xaxes(range=[8,22])\n",
        "fig005sepNi2.update_yaxes(range=[25,105])\n",
        "fig005sepNi2.update_traces(marker=dict(size=4))\n",
        "fig005sepNi2.update_layout(width=1200, height=500,\n",
        "                  title=r'$\\text{(b)  Threshold at} \\; 0.5 \\, \\mu_{B} \\, Å^{-3}$',\n",
        "                  xaxis_title=r'$\\text{Mean unit cell volume per atom} \\, (Å^{3})$',\n",
        "                  yaxis_title=r'$\\text{Ni} \\, (\\%)$',\n",
        "                  coloraxis_colorbar=dict(title='Magnetization'))"
      ],
      "execution_count": null,
      "outputs": []
    },
    {
      "cell_type": "code",
      "source": [
        "dfCo2['total_magnetization_normalized_vol'].max()"
      ],
      "metadata": {
        "id": "sjB3lMLGbORU"
      },
      "execution_count": null,
      "outputs": []
    },
    {
      "cell_type": "code",
      "metadata": {
        "id": "HE9recgOj2r3"
      },
      "source": [
        "fig005sepCo2 = px.scatter(dfCo2, x='mean_V', y='Co_percentage', hover_data=['material_id', 'e_above_hull'], hover_name='pretty_formula',\n",
        "                 color='total_magnetization_normalized_vol', color_continuous_scale=['#fca50a','#f3761b','#dd513a','#ba3655','#932667','#6a176e','#420a68'],\n",
        "                 template='seaborn')\n",
        "\n",
        "fig005sepCo2.update_xaxes(range=[7,24])\n",
        "fig005sepCo2.update_yaxes(range=[25,105])\n",
        "fig005sepCo2.update_traces(marker=dict(size=4))\n",
        "fig005sepCo2.update_layout(width=1200, height=500,\n",
        "                  title=r'$\\text{(b)  Threshold at} \\; 0.5 \\, \\mu_{B} \\, Å^{-3}$',\n",
        "                  xaxis_title=r'$\\text{Mean unit cell volume per atom} \\, (Å^{3})$',\n",
        "                  yaxis_title=r'$\\text{Co} \\, (\\%)$',\n",
        "                  coloraxis_colorbar=dict(title='Magnetization'))"
      ],
      "execution_count": null,
      "outputs": []
    },
    {
      "cell_type": "markdown",
      "source": [
        "# Results - ($0.10 \\, \\mu_{B} \\, Å^{-3}$)"
      ],
      "metadata": {
        "id": "372uI6wsawvj"
      }
    },
    {
      "cell_type": "markdown",
      "metadata": {
        "id": "Wet1voVgawvy"
      },
      "source": [
        "**Read** the desired feather file.\n",
        "\n",
        "Another error, resulting through the read_feather command, that inserted None values in the unit_cell_formula for elements that didn't exist in it. This was fixed with the 'for loop' below."
      ]
    },
    {
      "cell_type": "code",
      "metadata": {
        "id": "Sui-GAnEawvz"
      },
      "source": [
        "df_final = feather.read_feather('/content/gdrive/MyDrive/Materials Project/data_gt010.ft')\n",
        "\n",
        "for i in list(df_final.index.values):\n",
        "  filtered = {k: v for k, v in df_final['unit_cell_formula'][i].items() if v is not None}\n",
        "  df_final['unit_cell_formula'][i].clear()\n",
        "  df_final['unit_cell_formula'][i].update(filtered)\n",
        "\n",
        "display(df_final)"
      ],
      "execution_count": null,
      "outputs": []
    },
    {
      "cell_type": "code",
      "metadata": {
        "id": "T8psKFa1awv1"
      },
      "source": [
        "df_final.hist();"
      ],
      "execution_count": null,
      "outputs": []
    },
    {
      "cell_type": "code",
      "source": [
        "fig010a, ax = plt.subplots(1, 1, figsize=(13,4))\n",
        "\n",
        "sns.histplot(ax=ax, bins=np.arange(0, 1.5, 0.01), data=df_final['e_above_hull'])\n",
        "ax.set_title(r'(c)  Threshold at $0.10 \\; \\mu_{B} \\AA ^{-3}$')\n",
        "plt.xlabel(r'Energy above the convex hull $\\, (eV/atom)$')\n",
        "ax.grid()"
      ],
      "metadata": {
        "id": "myG8PsiIawv2"
      },
      "execution_count": null,
      "outputs": []
    },
    {
      "cell_type": "code",
      "source": [
        "fig010b, axes = plt.subplots(2, 1, figsize=(12,7))\n",
        "fig010b.suptitle(r'(c)  Threshold at $0.10 \\; \\mu_{B} \\AA ^{-3}$')\n",
        "\n",
        "sns.histplot(ax=axes[0], data=df_final, x='crystal_system', hue='crystal_system', legend=False, palette=palette)\n",
        "\n",
        "axes[0].set_title('Crystal systems')\n",
        "axes[0].xaxis.label.set_visible(False)\n",
        "axes[0].grid()\n",
        "\n",
        "sns.histplot(ax=axes[1], data=df_final, x='spacegroup.number', hue='crystal_system', palette=palette, \n",
        "             bins=np.arange(min(df_final['spacegroup.number']), max(df_final['spacegroup.number']), 1))\n",
        "\n",
        "axes[1].set_title('Spacegroup number')\n",
        "axes[1].xaxis.label.set_visible(False)\n",
        "axes[1].xaxis.set_major_locator(ticker.MultipleLocator(5))\n",
        "axes[1].grid()\n",
        "\n",
        "plt.xticks(rotation=90);"
      ],
      "metadata": {
        "id": "2P_Lhqk9awv3"
      },
      "execution_count": null,
      "outputs": []
    },
    {
      "cell_type": "code",
      "source": [
        "fig010c, axes = plt.subplots(2, 1, figsize=(12,7))\n",
        "fig010c.suptitle(r'(c)  Threshold at $0.10 \\; \\mu_{B} \\AA ^{-3}$')\n",
        "\n",
        "sns.histplot(ax=axes[0], bins=np.arange(0, 1500, 10), data=df_final['volume'])\n",
        "axes[0].set_xlabel(r'Unit cell volume $\\, (\\AA^{3})$')\n",
        "axes[0].grid()\n",
        "\n",
        "sns.histplot(ax=axes[1], bins=np.arange(0, 140, 1), data=df_final['nsites'])\n",
        "axes[1].set_xlabel(r'Number of atomic sites in unit cell')\n",
        "axes[1].grid()\n",
        "\n",
        "plt.subplots_adjust(hspace = 0.4)"
      ],
      "metadata": {
        "id": "CR-W9Hhfawv4"
      },
      "execution_count": null,
      "outputs": []
    },
    {
      "cell_type": "code",
      "source": [
        "fig010d, axes = plt.subplots(2, 1, figsize=(12,7))\n",
        "fig010d.suptitle(r'(c)  Threshold at $0.10 \\; \\mu_{B} \\AA ^{-3}$')\n",
        "\n",
        "sns.histplot(ax=axes[0], bins=np.arange(0, 50, 0.5), data=df_final['mean_V'])\n",
        "axes[0].set_xlabel(r'Mean unit cell volume per atom $\\, (\\AA^{3}$)')\n",
        "axes[0].grid()\n",
        "\n",
        "sns.histplot(ax=axes[1], bins=np.arange(0, 100, 1), data=df_final['mean_Z'])\n",
        "axes[1].set_xlabel(r'Mean proton number per atom in unit cell (Z)')\n",
        "axes[1].grid()\n",
        "\n",
        "plt.subplots_adjust(hspace = 0.4)"
      ],
      "metadata": {
        "id": "6Ndb2t7bawv5"
      },
      "execution_count": null,
      "outputs": []
    },
    {
      "cell_type": "markdown",
      "metadata": {
        "id": "mIZk_ewzawv-"
      },
      "source": [
        "Plot of the mean_Z/atom - mean_V/atom and in terms of the total magnetization of the compound."
      ]
    },
    {
      "cell_type": "code",
      "metadata": {
        "id": "rM3G4dgvawv_"
      },
      "source": [
        "fig010e = px.scatter(df_final, x='mean_Z', y='mean_V', hover_data=['material_id'], hover_name='pretty_formula',\n",
        "                 color='total_magnetization_normalized_vol', color_continuous_scale=['#dd513a','#ba3655','#932667','#6a176e','#420a68','#160b39','#000004'],\n",
        "                 template='seaborn')\n",
        "\n",
        "fig010e.update_xaxes(range=[0,100])\n",
        "fig010e.update_yaxes(range=[0,60])\n",
        "fig010e.update_traces(marker=dict(size=4))\n",
        "fig010e.update_layout(width=1200, height=500,\n",
        "                  title=r'$\\text{(c)  Threshold at} \\; 0.10 \\, \\mu_{B} \\, Å^{-3}$',\n",
        "                  xaxis_title=r'$\\text{Mean atomic number per atom in unit cell (Z)}$',\n",
        "                  yaxis_title=r'$\\text{Mean unit cell volume per atom} \\, (Å^{3})$',\n",
        "                  coloraxis_colorbar=dict(title='Magnetization'))"
      ],
      "execution_count": null,
      "outputs": []
    },
    {
      "cell_type": "markdown",
      "source": [
        "Plot of magnetization - e_above_hull and in terms of their crystal systems done for the 0.10 $\\mu_{B} \\, Å^{-3}$ threshold. "
      ],
      "metadata": {
        "id": "M--dJKEJCqr7"
      }
    },
    {
      "cell_type": "code",
      "source": [
        "fig010f = px.scatter(df_final, x='e_above_hull', y='total_magnetization_normalized_vol', hover_data=['material_id'], hover_name='pretty_formula',\n",
        "                 color='crystal_system', labels={'crystal_system': 'Crystal System'}, template='seaborn', color_discrete_map=palette)\n",
        "\n",
        "fig010f.update_traces(marker=dict(size=4))\n",
        "fig010f.update_layout(width=1200, height=500,\n",
        "                  title=r'$\\text{(c)  Threshold at} \\; 0.10 \\, \\mu_{B} \\, Å^{-3}$',\n",
        "                  xaxis_title=r'$\\text{Energy above the convex hull (eV/atom)}$',\n",
        "                  yaxis_title=r'$\\text{Magnetization per unit cell volume} \\, (\\mu_{B} \\, Å^{-3})$')                                "
      ],
      "metadata": {
        "id": "fdc79WksCqr8"
      },
      "execution_count": null,
      "outputs": []
    },
    {
      "cell_type": "markdown",
      "metadata": {
        "id": "BqCh_YhwawwD"
      },
      "source": [
        "Seperate analysis for entries containing Fe, Ni, Co."
      ]
    },
    {
      "cell_type": "code",
      "metadata": {
        "id": "9TBjyqZgawwE"
      },
      "source": [
        "dfsep = df_final[df_final['pretty_formula'].str.contains('Fe|Ni|Co')]\n",
        "\n",
        "print(dfsep)\n",
        "print('Number of duplicate entries found:', dfsep.material_id.duplicated().sum())"
      ],
      "execution_count": null,
      "outputs": []
    },
    {
      "cell_type": "markdown",
      "metadata": {
        "id": "-lWYzi3TawwF"
      },
      "source": [
        "Required cell to clean the None values that emerged from extracting df_sep."
      ]
    },
    {
      "cell_type": "code",
      "metadata": {
        "id": "z5jOpvBJawwF"
      },
      "source": [
        "for i in list(dfsep.index.values):\n",
        "  filtered = {k: v for k, v in dfsep['unit_cell_formula'][i].items() if v is not None}\n",
        "  dfsep['unit_cell_formula'][i].clear()\n",
        "  dfsep['unit_cell_formula'][i].update(filtered)"
      ],
      "execution_count": null,
      "outputs": []
    },
    {
      "cell_type": "markdown",
      "metadata": {
        "id": "RWK8uWLlawwG"
      },
      "source": [
        "Here we evaluate the percentage of each of the above elements in every compound and split the data in different dataframes depending on the element of choice."
      ]
    },
    {
      "cell_type": "markdown",
      "metadata": {
        "id": "QEaJEZFiawwG"
      },
      "source": [
        "-1st extraction\n",
        "\n",
        "(Fe, Ni, Co % > 50 %)"
      ]
    },
    {
      "cell_type": "code",
      "metadata": {
        "id": "tHA-_AyWawwH"
      },
      "source": [
        "listFe1 = []\n",
        "listNi1 = []\n",
        "listCo1 = []\n",
        "Feperc1 = []\n",
        "Niperc1 = []\n",
        "Coperc1 = []\n",
        "\n",
        "for entry in dfsep.to_dict(orient=\"records\"):\n",
        "  a = entry['unit_cell_formula']\n",
        "  b = entry['nsites']\n",
        "  coef = a.get('O', 0)\n",
        "  bnew = b - coef \n",
        "  anew = {k: v / bnew for bnew in (bnew,) for k, v in a.items()}\n",
        "  for atom, perc in anew.items():\n",
        "    if perc >= 0.5:\n",
        "      if atom == 'Fe':\n",
        "        listFe1.append(entry)\n",
        "        Feperc1.append(perc*100)\n",
        "      elif atom == 'Ni':\n",
        "        listNi1.append(entry)\n",
        "        Niperc1.append(perc*100)\n",
        "      elif atom == 'Co':\n",
        "        listCo1.append(entry)\n",
        "        Coperc1.append(perc*100)\n",
        "      elif atom == 'O':\n",
        "        continue\n",
        "  else:\n",
        "    continue"
      ],
      "execution_count": null,
      "outputs": []
    },
    {
      "cell_type": "code",
      "metadata": {
        "id": "Hb8O72joawwI"
      },
      "source": [
        "dfFe1 = pd.DataFrame(listFe1)\n",
        "dfFe1['Fe_percentage'] = Feperc1\n",
        "\n",
        "dfNi1 = pd.DataFrame(listNi1)\n",
        "dfNi1['Ni_percentage'] = Niperc1\n",
        "\n",
        "dfCo1 = pd.DataFrame(listCo1)\n",
        "dfCo1['Co_percentage'] = Coperc1\n",
        "\n",
        "print(dfFe1)\n",
        "print('Number of duplicate entries found:', dfFe1.material_id.duplicated().sum())\n",
        "print('\\n', dfNi1)\n",
        "print('Number of duplicate entries found:', dfNi1.material_id.duplicated().sum())\n",
        "print('\\n', dfCo1)\n",
        "print('Number of duplicate entries found:', dfCo1.material_id.duplicated().sum())"
      ],
      "execution_count": null,
      "outputs": []
    },
    {
      "cell_type": "code",
      "source": [
        "dfFe1['total_magnetization_normalized_vol'].max()"
      ],
      "metadata": {
        "id": "5CKacC7oeVv2"
      },
      "execution_count": null,
      "outputs": []
    },
    {
      "cell_type": "code",
      "metadata": {
        "id": "rltpIf3SawwI"
      },
      "source": [
        "fig010sepFe1 = px.scatter(dfFe1, x='mean_V', y='Fe_percentage', hover_data=['material_id', 'e_above_hull'], hover_name='pretty_formula',\n",
        "                 color='total_magnetization_normalized_vol', color_continuous_scale=['#dd513a','#ba3655','#932667','#6a176e','#420a68','#160b39'],\n",
        "                 template='seaborn')\n",
        "\n",
        "fig010sepFe1.update_xaxes(range=[5,25])\n",
        "fig010sepFe1.update_yaxes(range=[45,105])\n",
        "fig010sepFe1.update_traces(marker=dict(size=4))\n",
        "fig010sepFe1.update_layout(width=1200, height=500,\n",
        "                  title=r'$\\text{(c)  Threshold at} \\; 0.10 \\, \\mu_{B} \\, Å^{-3}$',\n",
        "                  xaxis_title=r'$\\text{Mean unit cell volume per atom} \\, (Å^{3})$',\n",
        "                  yaxis_title=r'$\\text{Fe} \\, (\\%)$',\n",
        "                  coloraxis_colorbar=dict(title='Magnetization'))"
      ],
      "execution_count": null,
      "outputs": []
    },
    {
      "cell_type": "code",
      "source": [
        "dfNi1['total_magnetization_normalized_vol'].max()"
      ],
      "metadata": {
        "id": "kWO9yUYGem7N"
      },
      "execution_count": null,
      "outputs": []
    },
    {
      "cell_type": "code",
      "metadata": {
        "id": "3nLWuCIAawwK"
      },
      "source": [
        "fig010sepNi1 = px.scatter(dfNi1, x='mean_V', y='Ni_percentage', hover_data=['material_id', 'e_above_hull'], hover_name='pretty_formula',\n",
        "                 color='total_magnetization_normalized_vol', color_continuous_scale=['#dd513a','#ba3655','#932667','#6a176e'],\n",
        "                 template='seaborn')\n",
        "\n",
        "fig010sepNi1.update_xaxes(range=[5,20])\n",
        "fig010sepNi1.update_yaxes(range=[40,105])\n",
        "fig010sepNi1.update_traces(marker=dict(size=4))\n",
        "fig010sepNi1.update_layout(width=1200, height=500,\n",
        "                  title=r'$\\text{(c)  Threshold at} \\; 0.10 \\, \\mu_{B} \\, Å^{-3}$',\n",
        "                  xaxis_title=r'$\\text{Mean unit cell volume per atom} \\, (Å^{3})$',\n",
        "                  yaxis_title=r'$\\text{Ni} \\, (\\%)$',\n",
        "                  coloraxis_colorbar=dict(title='Magnetization'))"
      ],
      "execution_count": null,
      "outputs": []
    },
    {
      "cell_type": "code",
      "source": [
        "dfCo1['total_magnetization_normalized_vol'].max()"
      ],
      "metadata": {
        "id": "RP3Xx09ye4a3"
      },
      "execution_count": null,
      "outputs": []
    },
    {
      "cell_type": "code",
      "metadata": {
        "id": "bqAKUnBgawwL"
      },
      "source": [
        "fig010sepCo1 = px.scatter(dfCo1, x='mean_V', y='Co_percentage', hover_data=['material_id', 'e_above_hull'], hover_name='pretty_formula',\n",
        "                 color='total_magnetization_normalized_vol', color_continuous_scale=['#dd513a','#ba3655','#932667','#6a176e','#420a68'],\n",
        "                 template='seaborn')\n",
        "\n",
        "fig010sepCo1.update_xaxes(range=[7,18])\n",
        "fig010sepCo1.update_yaxes(range=[45,105])\n",
        "fig010sepCo1.update_traces(marker=dict(size=4))\n",
        "fig010sepCo1.update_layout(width=1200, height=500,\n",
        "                  title=r'$\\text{(c)  Threshold at} \\; 0.10 \\, \\mu_{B} \\, Å^{-3}$',\n",
        "                  xaxis_title=r'$\\text{Mean unit cell volume per atom} \\, (Å^{3})$',\n",
        "                  yaxis_title=r'$\\text{Co} \\, (\\%)$',\n",
        "                  coloraxis_colorbar=dict(title='Magnetization'))"
      ],
      "execution_count": null,
      "outputs": []
    },
    {
      "cell_type": "markdown",
      "metadata": {
        "id": "rKS2LpxcawwL"
      },
      "source": [
        "-2nd extraction\n",
        "\n",
        "(Fe, Ni , Co % > 30 %  AND  Fe, Ni, Co % > of the rest elements in the compound)"
      ]
    },
    {
      "cell_type": "code",
      "metadata": {
        "id": "uLhl7uv6awwM"
      },
      "source": [
        "listFe2 = []\n",
        "listNi2 = []\n",
        "listCo2 = []\n",
        "Feperc2 = []\n",
        "Niperc2 = []\n",
        "Coperc2 = []\n",
        "\n",
        "for entry in dfsep.to_dict(orient=\"records\"):\n",
        "  a = entry['unit_cell_formula']\n",
        "  b = entry['nsites']\n",
        "  coef = a.get('O', 0)\n",
        "  bnew = b - coef \n",
        "  anew = {k: v / bnew for bnew in (bnew,) for k, v in a.items()}\n",
        "  if 'O' in anew:\n",
        "    del anew['O']\n",
        "  for atom, perc in anew.items():\n",
        "    if (atom == 'Fe' and perc==max(anew.values()) and perc>=0.3):\n",
        "      listFe2.append(entry)\n",
        "      Feperc2.append(perc*100)\n",
        "    if (atom == 'Ni' and perc==max(anew.values()) and perc>=0.3):\n",
        "      listNi2.append(entry)\n",
        "      Niperc2.append(perc*100)\n",
        "    if (atom == 'Co' and perc==max(anew.values()) and perc>=0.3):\n",
        "      listCo2.append(entry)\n",
        "      Coperc2.append(perc*100)\n",
        "  else:\n",
        "    continue"
      ],
      "execution_count": null,
      "outputs": []
    },
    {
      "cell_type": "markdown",
      "metadata": {
        "id": "3c5tEuv9awwM"
      },
      "source": [
        "The seperate dataframes."
      ]
    },
    {
      "cell_type": "code",
      "metadata": {
        "id": "PJOsLW6FawwN"
      },
      "source": [
        "dfFe2 = pd.DataFrame(listFe2)\n",
        "dfFe2['Fe_percentage'] = Feperc2\n",
        "\n",
        "dfNi2 = pd.DataFrame(listNi2)\n",
        "dfNi2['Ni_percentage'] = Niperc2\n",
        "\n",
        "dfCo2 = pd.DataFrame(listCo2)\n",
        "dfCo2['Co_percentage'] = Coperc2\n",
        "\n",
        "print(dfFe2)\n",
        "print('Number of duplicate entries found:', dfFe2.material_id.duplicated().sum())\n",
        "print('\\n', dfNi2)\n",
        "print('Number of duplicate entries found:', dfNi2.material_id.duplicated().sum())\n",
        "print('\\n', dfCo2)\n",
        "print('Number of duplicate entries found:', dfCo2.material_id.duplicated().sum())"
      ],
      "execution_count": null,
      "outputs": []
    },
    {
      "cell_type": "code",
      "source": [
        "dfFe2['total_magnetization_normalized_vol'].max()"
      ],
      "metadata": {
        "id": "UFdtGl5_gWzg"
      },
      "execution_count": null,
      "outputs": []
    },
    {
      "cell_type": "code",
      "metadata": {
        "id": "MqcrhTntawwO"
      },
      "source": [
        "fig010sepFe2 = px.scatter(dfFe2, x='mean_V', y='Fe_percentage', hover_data=['material_id', 'e_above_hull'], hover_name='pretty_formula',\n",
        "                 color='total_magnetization_normalized_vol', color_continuous_scale=['#dd513a','#ba3655','#932667','#6a176e','#420a68','#160b39'],\n",
        "                 template='seaborn')\n",
        "\n",
        "fig010sepFe2.update_xaxes(range=[5,30])\n",
        "fig010sepFe2.update_yaxes(range=[25,105])\n",
        "fig010sepFe2.update_traces(marker=dict(size=4))\n",
        "fig010sepFe2.update_layout(width=1200, height=500,\n",
        "                  title=r'$\\text{(c)  Threshold at} \\; 0.10 \\, \\mu_{B} \\, Å^{-3}$',\n",
        "                  xaxis_title=r'$\\text{Mean unit cell volume per atom} \\, (Å^{3})$',\n",
        "                  yaxis_title=r'$\\text{Fe} \\, (\\%)$',\n",
        "                  coloraxis_colorbar=dict(title='Magnetization'))"
      ],
      "execution_count": null,
      "outputs": []
    },
    {
      "cell_type": "code",
      "source": [
        "dfNi2['total_magnetization_normalized_vol'].max()"
      ],
      "metadata": {
        "id": "J2NjmqqzgayK"
      },
      "execution_count": null,
      "outputs": []
    },
    {
      "cell_type": "code",
      "metadata": {
        "id": "JvmKgQR_awwO"
      },
      "source": [
        "fig010sepNi2 = px.scatter(dfNi2, x='mean_V', y='Ni_percentage', hover_data=['material_id', 'e_above_hull'], hover_name='pretty_formula',\n",
        "                 color='total_magnetization_normalized_vol', color_continuous_scale=['#dd513a','#ba3655','#932667','#6a176e'], template='seaborn')\n",
        "\n",
        "fig010sepNi2.update_xaxes(range=[8,22])\n",
        "fig010sepNi2.update_yaxes(range=[25,105])\n",
        "fig010sepNi2.update_traces(marker=dict(size=4))\n",
        "fig010sepNi2.update_layout(width=1200, height=500,\n",
        "                  title=r'$\\text{(c)  Threshold at} \\; 0.10 \\, \\mu_{B} \\, Å^{-3}$',\n",
        "                  xaxis_title=r'$\\text{Mean unit cell volume per atom} \\, (Å^{3})$',\n",
        "                  yaxis_title=r'$\\text{Ni} \\, (\\%)$',\n",
        "                  coloraxis_colorbar=dict(title='Magnetization'))"
      ],
      "execution_count": null,
      "outputs": []
    },
    {
      "cell_type": "code",
      "source": [
        "dfCo2['total_magnetization_normalized_vol'].max()"
      ],
      "metadata": {
        "id": "Tn4FVvyMgdIH"
      },
      "execution_count": null,
      "outputs": []
    },
    {
      "cell_type": "code",
      "metadata": {
        "id": "dMuU6_lWawwP"
      },
      "source": [
        "fig010sepCo2 = px.scatter(dfCo2, x='mean_V', y='Co_percentage', hover_data=['material_id', 'e_above_hull'], hover_name='pretty_formula',\n",
        "                 color='total_magnetization_normalized_vol', color_continuous_scale=['#dd513a','#ba3655','#932667','#6a176e','#420a68'], template='seaborn')\n",
        "\n",
        "fig010sepCo2.update_xaxes(range=[7,24])\n",
        "fig010sepCo2.update_yaxes(range=[25,105])\n",
        "fig010sepCo2.update_traces(marker=dict(size=4))\n",
        "fig010sepCo2.update_layout(width=1200, height=500,\n",
        "                  title=r'$\\text{(c)  Threshold at} \\; 0.10 \\, \\mu_{B} \\, Å^{-3}$',\n",
        "                  xaxis_title=r'$\\text{Mean unit cell volume per atom} \\, (Å^{3})$',\n",
        "                  yaxis_title=r'$\\text{Co} \\, (\\%)$',\n",
        "                  coloraxis_colorbar=dict(title='Magnetization'))"
      ],
      "execution_count": null,
      "outputs": []
    },
    {
      "cell_type": "markdown",
      "source": [
        "# Results - ($0.15 \\, \\mu_{B} \\, Å^{-3}$)"
      ],
      "metadata": {
        "id": "sJ_MYHI1dpKp"
      }
    },
    {
      "cell_type": "markdown",
      "metadata": {
        "id": "EHTSVEtNdpKs"
      },
      "source": [
        "**Read** the desired feather file.\n",
        "\n",
        "Another error, resulting through the read_feather command, that inserted None values in the unit_cell_formula for elements that didn't exist in it. This was fixed with the 'for loop' below."
      ]
    },
    {
      "cell_type": "code",
      "metadata": {
        "id": "AyxOeJk7dpKw"
      },
      "source": [
        "df_final = feather.read_feather('/content/gdrive/MyDrive/Materials Project/data_gt015.ft')\n",
        "\n",
        "for i in list(df_final.index.values):\n",
        "  filtered = {k: v for k, v in df_final['unit_cell_formula'][i].items() if v is not None}\n",
        "  df_final['unit_cell_formula'][i].clear()\n",
        "  df_final['unit_cell_formula'][i].update(filtered)\n",
        "\n",
        "display(df_final)"
      ],
      "execution_count": null,
      "outputs": []
    },
    {
      "cell_type": "code",
      "metadata": {
        "id": "OiM-zXnDdpK1"
      },
      "source": [
        "df_final.hist();"
      ],
      "execution_count": null,
      "outputs": []
    },
    {
      "cell_type": "code",
      "source": [
        "fig015a, ax = plt.subplots(1, 1, figsize=(13,4))\n",
        "\n",
        "sns.histplot(ax=ax, bins=np.arange(0, 1.5, 0.01), data=df_final['e_above_hull'])\n",
        "ax.set_title(r'(d)  Threshold at $0.15 \\; \\mu_{B} \\AA ^{-3}$')\n",
        "plt.xlabel(r'Energy above the convex hull $\\, (eV/atom)$')\n",
        "ax.grid()"
      ],
      "metadata": {
        "id": "io5tx0o1dpK3"
      },
      "execution_count": null,
      "outputs": []
    },
    {
      "cell_type": "code",
      "source": [
        "fig015b, axes = plt.subplots(2, 1, figsize=(12,7))\n",
        "fig015b.suptitle(r'(d)  Threshold at $0.15 \\; \\mu_{B} \\AA ^{-3}$')\n",
        "\n",
        "sns.histplot(ax=axes[0], data=df_final, x='crystal_system', hue='crystal_system', legend=False, palette=palette)\n",
        "\n",
        "axes[0].set_title('Crystal systems')\n",
        "axes[0].xaxis.label.set_visible(False)\n",
        "axes[0].grid()\n",
        "\n",
        "sns.histplot(ax=axes[1], data=df_final, x='spacegroup.number', hue='crystal_system', palette=palette, \n",
        "             bins=np.arange(min(df_final['spacegroup.number']), max(df_final['spacegroup.number']), 1))\n",
        "\n",
        "axes[1].set_title('Spacegroup number')\n",
        "axes[1].xaxis.label.set_visible(False)\n",
        "axes[1].xaxis.set_major_locator(ticker.MultipleLocator(5))\n",
        "axes[1].grid()\n",
        "\n",
        "plt.xticks(rotation=90);"
      ],
      "metadata": {
        "id": "l6UEpak9dpK4"
      },
      "execution_count": null,
      "outputs": []
    },
    {
      "cell_type": "code",
      "source": [
        "fig015c, axes = plt.subplots(2, 1, figsize=(12,7))\n",
        "fig015c.suptitle(r'(d)  Threshold at $0.15 \\; \\mu_{B} \\AA ^{-3}$')\n",
        "\n",
        "sns.histplot(ax=axes[0], bins=np.arange(0, 1500, 10), data=df_final['volume'])\n",
        "axes[0].set_xlabel(r'Unit cell volume $\\, (\\AA^{3})$')\n",
        "axes[0].grid()\n",
        "\n",
        "sns.histplot(ax=axes[1], bins=np.arange(0, 140, 1), data=df_final['nsites'])\n",
        "axes[1].set_xlabel(r'Number of atomic sites in unit cell')\n",
        "axes[1].grid()\n",
        "\n",
        "plt.subplots_adjust(hspace = 0.4)"
      ],
      "metadata": {
        "id": "_QmXpVgMdpK7"
      },
      "execution_count": null,
      "outputs": []
    },
    {
      "cell_type": "code",
      "source": [
        "fig015d, axes = plt.subplots(2, 1, figsize=(12,7))\n",
        "fig015d.suptitle(r'(d)  Threshold at $0.15 \\; \\mu_{B} \\AA ^{-3}$')\n",
        "\n",
        "sns.histplot(ax=axes[0], bins=np.arange(0, 50, 0.5), data=df_final['mean_V'])\n",
        "axes[0].set_xlabel(r'Mean unit cell volume per atom $\\, (\\AA^{3}$)')\n",
        "axes[0].grid()\n",
        "\n",
        "sns.histplot(ax=axes[1], bins=np.arange(0, 100, 1), data=df_final['mean_Z'])\n",
        "axes[1].set_xlabel(r'Mean proton number per atom in unit cell (Z)')\n",
        "axes[1].grid()\n",
        "\n",
        "plt.subplots_adjust(hspace = 0.4)"
      ],
      "metadata": {
        "id": "emYNj5Z1dpK-"
      },
      "execution_count": null,
      "outputs": []
    },
    {
      "cell_type": "markdown",
      "metadata": {
        "id": "tEX1nTM_dpLC"
      },
      "source": [
        "Plot of the mean_Z/atom - mean_V/atom and in terms of the total magnetization of the compound."
      ]
    },
    {
      "cell_type": "code",
      "metadata": {
        "id": "ahXxgthKdpLF"
      },
      "source": [
        "fig015e = px.scatter(df_final, x='mean_Z', y='mean_V', hover_data=['material_id', 'e_above_hull'], hover_name='pretty_formula',\n",
        "                 color='total_magnetization_normalized_vol', color_continuous_scale=['#932667','#6a176e','#420a68','#160b39','#000004'], template='seaborn')\n",
        "\n",
        "fig015e.update_xaxes(range=[0,100])\n",
        "fig015e.update_yaxes(range=[0,60])\n",
        "fig015e.update_traces(marker=dict(size=4))\n",
        "fig015e.update_layout(width=1200, height=500,\n",
        "                  title=r'$\\text{(d)  Threshold at} \\; 1.5 \\, \\mu_{B} \\, Å^{-3}$',\n",
        "                  xaxis_title=r'$\\text{Mean atomic number per atom in unit cell (Z)}$',\n",
        "                  yaxis_title=r'$\\text{Mean unit cell volume per atom} \\, (Å^{3})$',\n",
        "                  coloraxis_colorbar=dict(title='Magnetization'))"
      ],
      "execution_count": null,
      "outputs": []
    },
    {
      "cell_type": "markdown",
      "source": [
        "Plot of magnetization - e_above_hull and in terms of their crystal systems done for the 0.15 $\\mu_{B} \\, Å^{-3}$ threshold. "
      ],
      "metadata": {
        "id": "lD4fcTYBDMEn"
      }
    },
    {
      "cell_type": "code",
      "source": [
        "fig015f = px.scatter(df_final, x='e_above_hull', y='total_magnetization_normalized_vol', hover_data=['material_id'], hover_name='pretty_formula',\n",
        "                 color='crystal_system', labels={'crystal_system': 'Crystal System'}, template='seaborn', color_discrete_map=palette)\n",
        "\n",
        "fig015f.update_traces(marker=dict(size=4))\n",
        "fig015f.update_layout(width=1200, height=500,\n",
        "                  title=r'$\\text{(d)  Threshold at} \\; 1.5 \\, \\mu_{B} \\, Å^{-3}$',\n",
        "                  xaxis_title=r'$\\text{Energy above the convex hull (eV/atom)}$',\n",
        "                  yaxis_title=r'$\\text{Magnetization per unit cell volume} \\, (\\mu_{B} \\, Å^{-3})$')                                "
      ],
      "metadata": {
        "id": "n4dUSfAWDC-v"
      },
      "execution_count": null,
      "outputs": []
    },
    {
      "cell_type": "markdown",
      "metadata": {
        "id": "H4pCX4Z3dpLO"
      },
      "source": [
        "Seperate analysis for entries containing Fe, Ni, Co."
      ]
    },
    {
      "cell_type": "code",
      "metadata": {
        "id": "UuFVINPkdpLQ"
      },
      "source": [
        "dfsep = df_final[df_final['pretty_formula'].str.contains('Fe|Ni|Co')]\n",
        "\n",
        "print(dfsep)\n",
        "print('Number of duplicate entries found:', dfsep.material_id.duplicated().sum())"
      ],
      "execution_count": null,
      "outputs": []
    },
    {
      "cell_type": "markdown",
      "metadata": {
        "id": "A_mwG7wpdpLV"
      },
      "source": [
        "Required cell to clean the None values that emerged from extracting df_sep."
      ]
    },
    {
      "cell_type": "code",
      "metadata": {
        "id": "-sWtGdI1dpLW"
      },
      "source": [
        "for i in list(dfsep.index.values):\n",
        "  filtered = {k: v for k, v in dfsep['unit_cell_formula'][i].items() if v is not None}\n",
        "  dfsep['unit_cell_formula'][i].clear()\n",
        "  dfsep['unit_cell_formula'][i].update(filtered)"
      ],
      "execution_count": null,
      "outputs": []
    },
    {
      "cell_type": "markdown",
      "metadata": {
        "id": "fR5XhCvedpLX"
      },
      "source": [
        "Here we evaluate the percentage of each of the above elements in every compound and split the data in different dataframes depending on the element of choice."
      ]
    },
    {
      "cell_type": "markdown",
      "metadata": {
        "id": "-dcoLvlZdpLZ"
      },
      "source": [
        "-1st extraction\n",
        "\n",
        "(Fe, Ni, Co % > 50 %)"
      ]
    },
    {
      "cell_type": "code",
      "metadata": {
        "id": "uCiPaqfcdpLa"
      },
      "source": [
        "listFe1 = []\n",
        "listNi1 = []\n",
        "listCo1 = []\n",
        "Feperc1 = []\n",
        "Niperc1 = []\n",
        "Coperc1 = []\n",
        "\n",
        "for entry in dfsep.to_dict(orient=\"records\"):\n",
        "  a = entry['unit_cell_formula']\n",
        "  b = entry['nsites']\n",
        "  coef = a.get('O', 0)\n",
        "  bnew = b - coef \n",
        "  anew = {k: v / bnew for bnew in (bnew,) for k, v in a.items()}\n",
        "  for atom, perc in anew.items():\n",
        "    if perc >= 0.5:\n",
        "      if atom == 'Fe':\n",
        "        listFe1.append(entry)\n",
        "        Feperc1.append(perc*100)\n",
        "      elif atom == 'Ni':\n",
        "        listNi1.append(entry)\n",
        "        Niperc1.append(perc*100)\n",
        "      elif atom == 'Co':\n",
        "        listCo1.append(entry)\n",
        "        Coperc1.append(perc*100)\n",
        "      elif atom == 'O':\n",
        "        continue\n",
        "  else:\n",
        "    continue"
      ],
      "execution_count": null,
      "outputs": []
    },
    {
      "cell_type": "code",
      "metadata": {
        "id": "VGsfLFYhdpLb"
      },
      "source": [
        "dfFe1 = pd.DataFrame(listFe1)\n",
        "dfFe1['Fe_percentage'] = Feperc1\n",
        "\n",
        "dfNi1 = pd.DataFrame(listNi1)\n",
        "dfNi1['Ni_percentage'] = Niperc1\n",
        "\n",
        "dfCo1 = pd.DataFrame(listCo1)\n",
        "dfCo1['Co_percentage'] = Coperc1\n",
        "\n",
        "print(dfFe1)\n",
        "print('Number of duplicate entries found:', dfFe1.material_id.duplicated().sum())\n",
        "print('\\n', dfNi1)\n",
        "print('Number of duplicate entries found:', dfNi1.material_id.duplicated().sum())\n",
        "print('\\n', dfCo1)\n",
        "print('Number of duplicate entries found:', dfCo1.material_id.duplicated().sum())"
      ],
      "execution_count": null,
      "outputs": []
    },
    {
      "cell_type": "code",
      "source": [
        "dfFe1['total_magnetization_normalized_vol'].max()"
      ],
      "metadata": {
        "id": "m98hR2GsjMmX"
      },
      "execution_count": null,
      "outputs": []
    },
    {
      "cell_type": "code",
      "metadata": {
        "id": "lnzWuJEcdpLd"
      },
      "source": [
        "fig015sepFe1 = px.scatter(dfFe1, x='mean_V', y='Fe_percentage', hover_data=['material_id', 'e_above_hull'], hover_name='pretty_formula',\n",
        "                 color='total_magnetization_normalized_vol', color_continuous_scale=['#932667','#6a176e','#420a68','#160b39'], template='seaborn')\n",
        "\n",
        "fig015sepFe1.update_xaxes(range=[5,25])\n",
        "fig015sepFe1.update_yaxes(range=[45,105])\n",
        "fig015sepFe1.update_traces(marker=dict(size=4))\n",
        "fig015sepFe1.update_layout(width=1200, height=500,\n",
        "                  title=r'$\\text{(d)  Threshold at} \\; 1.5 \\, \\mu_{B} \\, Å^{-3}$',\n",
        "                  xaxis_title=r'$\\text{Mean unit cell volume per atom} \\, (Å^{3})$',\n",
        "                  yaxis_title=r'$\\text{Fe} \\, (\\%)$',\n",
        "                  coloraxis_colorbar=dict(title='Magnetization'))"
      ],
      "execution_count": null,
      "outputs": []
    },
    {
      "cell_type": "code",
      "source": [
        "dfNi1['total_magnetization_normalized_vol'].max()"
      ],
      "metadata": {
        "id": "Fg4mdEdfjP6k"
      },
      "execution_count": null,
      "outputs": []
    },
    {
      "cell_type": "code",
      "metadata": {
        "id": "_94hMXN9dpLf"
      },
      "source": [
        "fig015sepNi1 = px.scatter(dfNi1, x='mean_V', y='Ni_percentage', hover_data=['material_id', 'e_above_hull'], hover_name='pretty_formula',\n",
        "                 color='total_magnetization_normalized_vol', color_continuous_scale=['#932667','#6a176e'], template='seaborn')\n",
        "\n",
        "fig015sepNi1.update_xaxes(range=[5,25])\n",
        "fig015sepNi1.update_yaxes(range=[40,105])\n",
        "fig015sepNi1.update_traces(marker=dict(size=4))\n",
        "fig015sepNi1.update_layout(width=1200, height=500,\n",
        "                  title=r'$\\text{(d)  Threshold at} \\; 1.5 \\, \\mu_{B} \\, Å^{-3}$',\n",
        "                  xaxis_title=r'$\\text{Mean unit cell volume per atom} \\, (Å^{3})$',\n",
        "                  yaxis_title=r'$\\text{Ni} \\, (\\%)$',\n",
        "                  coloraxis_colorbar=dict(title='Magnetization'))"
      ],
      "execution_count": null,
      "outputs": []
    },
    {
      "cell_type": "code",
      "source": [
        "dfCo1['total_magnetization_normalized_vol'].max()"
      ],
      "metadata": {
        "id": "ZCn_yUOdjSc4"
      },
      "execution_count": null,
      "outputs": []
    },
    {
      "cell_type": "code",
      "metadata": {
        "id": "MKMeA83wdpLh"
      },
      "source": [
        "fig015sepCo1 = px.scatter(dfCo1, x='mean_V', y='Co_percentage', hover_data=['material_id', 'e_above_hull'], hover_name='pretty_formula',\n",
        "                 color='total_magnetization_normalized_vol', color_continuous_scale=['#932667','#6a176e','#420a68'], template='seaborn')\n",
        "\n",
        "fig015sepCo1.update_xaxes(range=[7,18])\n",
        "fig015sepCo1.update_yaxes(range=[45,105])\n",
        "fig015sepCo1.update_traces(marker=dict(size=4))\n",
        "fig015sepCo1.update_layout(width=1200, height=500,\n",
        "                  title=r'$\\text{(d)  Threshold at} \\; 1.5 \\, \\mu_{B} \\, Å^{-3}$',\n",
        "                  xaxis_title=r'$\\text{Mean unit cell volume per atom} \\, (Å^{3})$',\n",
        "                  yaxis_title=r'$\\text{Co} \\, (\\%)$',\n",
        "                  coloraxis_colorbar=dict(title='Magnetization'))"
      ],
      "execution_count": null,
      "outputs": []
    },
    {
      "cell_type": "markdown",
      "metadata": {
        "id": "h_w__XCXdpLl"
      },
      "source": [
        "-2nd extraction\n",
        "\n",
        "(Fe, Ni , Co % > 30 %  AND  Fe, Ni, Co % > of the rest elements in the compound)"
      ]
    },
    {
      "cell_type": "code",
      "metadata": {
        "id": "HVrYh7vndpLl"
      },
      "source": [
        "listFe2 = []\n",
        "listNi2 = []\n",
        "listCo2 = []\n",
        "Feperc2 = []\n",
        "Niperc2 = []\n",
        "Coperc2 = []\n",
        "\n",
        "for entry in dfsep.to_dict(orient=\"records\"):\n",
        "  a = entry['unit_cell_formula']\n",
        "  b = entry['nsites']\n",
        "  coef = a.get('O', 0)\n",
        "  bnew = b - coef \n",
        "  anew = {k: v / bnew for bnew in (bnew,) for k, v in a.items()}\n",
        "  if 'O' in anew:\n",
        "    del anew['O']\n",
        "  for atom, perc in anew.items():\n",
        "    if (atom == 'Fe' and perc==max(anew.values()) and perc>=0.3):\n",
        "      listFe2.append(entry)\n",
        "      Feperc2.append(perc*100)\n",
        "    if (atom == 'Ni' and perc==max(anew.values()) and perc>=0.3):\n",
        "      listNi2.append(entry)\n",
        "      Niperc2.append(perc*100)\n",
        "    if (atom == 'Co' and perc==max(anew.values()) and perc>=0.3):\n",
        "      listCo2.append(entry)\n",
        "      Coperc2.append(perc*100)\n",
        "  else:\n",
        "    continue"
      ],
      "execution_count": null,
      "outputs": []
    },
    {
      "cell_type": "markdown",
      "metadata": {
        "id": "gHtCadJ8dpLn"
      },
      "source": [
        "The seperate dataframes."
      ]
    },
    {
      "cell_type": "code",
      "metadata": {
        "id": "En4qWqafdpLo"
      },
      "source": [
        "dfFe2 = pd.DataFrame(listFe2)\n",
        "dfFe2['Fe_percentage'] = Feperc2\n",
        "\n",
        "dfNi2 = pd.DataFrame(listNi2)\n",
        "dfNi2['Ni_percentage'] = Niperc2\n",
        "\n",
        "dfCo2 = pd.DataFrame(listCo2)\n",
        "dfCo2['Co_percentage'] = Coperc2\n",
        "\n",
        "print(dfFe2)\n",
        "print('Number of duplicate entries found:', dfFe2.material_id.duplicated().sum())\n",
        "print('\\n', dfNi2)\n",
        "print('Number of duplicate entries found:', dfNi2.material_id.duplicated().sum())\n",
        "print('\\n', dfCo2)\n",
        "print('Number of duplicate entries found:', dfCo2.material_id.duplicated().sum())"
      ],
      "execution_count": null,
      "outputs": []
    },
    {
      "cell_type": "code",
      "source": [
        "dfFe2['total_magnetization_normalized_vol'].max()"
      ],
      "metadata": {
        "id": "GkIDD-HflMw2"
      },
      "execution_count": null,
      "outputs": []
    },
    {
      "cell_type": "code",
      "metadata": {
        "id": "hSc3g7WRdpLp"
      },
      "source": [
        "fig015sepFe2 = px.scatter(dfFe2, x='mean_V', y='Fe_percentage', hover_data=['material_id', 'e_above_hull'], hover_name='pretty_formula',\n",
        "                 color='total_magnetization_normalized_vol', color_continuous_scale=['#932667','#6a176e','#420a68','#160b39'], template='seaborn')\n",
        "\n",
        "fig015sepFe2.update_xaxes(range=[5,20])\n",
        "fig015sepFe2.update_yaxes(range=[40,105])\n",
        "fig015sepFe2.update_traces(marker=dict(size=4))\n",
        "fig015sepFe2.update_layout(width=1200, height=500,\n",
        "                  title=r'$\\text{(d)  Threshold at} \\; 1.5 \\, \\mu_{B} \\, Å^{-3}$',\n",
        "                  xaxis_title=r'$\\text{Mean unit cell volume per atom} \\, (Å^{3})$',\n",
        "                  yaxis_title=r'$\\text{Fe} \\, (\\%)$',\n",
        "                  coloraxis_colorbar=dict(title='Magnetization'))"
      ],
      "execution_count": null,
      "outputs": []
    },
    {
      "cell_type": "code",
      "source": [
        "dfNi2['total_magnetization_normalized_vol'].max()"
      ],
      "metadata": {
        "id": "q7lR973klRts"
      },
      "execution_count": null,
      "outputs": []
    },
    {
      "cell_type": "code",
      "metadata": {
        "id": "h4PX5uBydpLr"
      },
      "source": [
        "fig015sepNi2 = px.scatter(dfNi2, x='mean_V', y='Ni_percentage', hover_data=['material_id', 'e_above_hull'], hover_name='pretty_formula',\n",
        "                 color='total_magnetization_normalized_vol', color_continuous_scale=['#932667','#6a176e'], template='seaborn')\n",
        "\n",
        "fig015sepNi2.update_xaxes(range=[9,13])\n",
        "fig015sepNi2.update_yaxes(range=[25,105])\n",
        "fig015sepNi2.update_traces(marker=dict(size=4))\n",
        "fig015sepNi2.update_layout(width=1200, height=500,\n",
        "                  title=r'$\\text{(d)  Threshold at} \\; 1.5 \\, \\mu_{B} \\, Å^{-3}$',\n",
        "                  xaxis_title=r'$\\text{Mean unit cell volume per atom} \\, (Å^{3})$',\n",
        "                  yaxis_title=r'$\\text{Ni} \\, (\\%)$',\n",
        "                  coloraxis_colorbar=dict(title='Magnetization'))"
      ],
      "execution_count": null,
      "outputs": []
    },
    {
      "cell_type": "code",
      "source": [
        "dfCo2['total_magnetization_normalized_vol'].max()"
      ],
      "metadata": {
        "id": "GBCrkvKmlT5u"
      },
      "execution_count": null,
      "outputs": []
    },
    {
      "cell_type": "code",
      "metadata": {
        "id": "mst90vojdpLs"
      },
      "source": [
        "fig015sepCo2 = px.scatter(dfCo2, x='mean_V', y='Co_percentage', hover_data=['material_id', 'e_above_hull'], hover_name='pretty_formula',\n",
        "                 color='total_magnetization_normalized_vol', color_continuous_scale=['#932667','#6a176e','#420a68'], template='seaborn')\n",
        "\n",
        "fig015sepCo2.update_xaxes(range=[10,14.5])\n",
        "fig015sepCo2.update_yaxes(range=[25,105])\n",
        "fig015sepCo2.update_traces(marker=dict(size=4))\n",
        "fig015sepCo2.update_layout(width=1200, height=500,\n",
        "                  title=r'$\\text{(d)  Threshold at} \\; 1.5 \\, \\mu_{B} \\, Å^{-3}$',\n",
        "                  xaxis_title=r'$\\text{Mean unit cell volume per atom} \\, (Å^{3})$',\n",
        "                  yaxis_title=r'$\\text{Co} \\, (\\%)$',\n",
        "                  coloraxis_colorbar=dict(title='Magnetization'))"
      ],
      "execution_count": null,
      "outputs": []
    }
  ]
}